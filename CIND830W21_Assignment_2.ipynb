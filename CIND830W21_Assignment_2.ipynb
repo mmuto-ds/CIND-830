{
 "cells": [
  {
   "cell_type": "markdown",
   "metadata": {
    "id": "TX_-QfCapg5r"
   },
   "source": [
    "## CIND830 - Python Programming for Data Science  \n",
    "### Assignment 2 (10% of the final grade)\n",
    "### Due on March 15, 2021 11:59 PM"
   ]
  },
  {
   "cell_type": "markdown",
   "metadata": {
    "id": "U8IqCJzxpg5t"
   },
   "source": [
    "*****\n",
    "This is a Jupyter Notebook document that extends a simple formatting syntax for authoring HTML and PDF.\n",
    "Review [this](https://jupyter-notebook.readthedocs.io/en/stable/notebook.html) website for more details on using Juputer Notebook.\n",
    "\n",
    "Use the JupyterHub server on the Google Cloud Platform, provided by your designated instructor, for this assignment. Ensure using Python 3.7.6 release then complete the assignment by inserting your Python code wherever seeing the string \"#INSERT YOUR ANSWER HERE.\"\n",
    "\n",
    "When you click the `File` button, from the top navigation bar, then select `Export Notebook As ...`,\n",
    "a document (PDF or HTML format) will be generated that includes\n",
    " both the assignment content and the output of any embedded Python code chunks.\n",
    "\n",
    "Using [these](https://www.ryerson.ca/courses/students/tutorials/assignments/) guidelines,\n",
    "submit **both** the IPYNB and the exported file (PDF or HTML).\n",
    "Failing to submit both files will be subject to mark deduction."
   ]
  },
  {
   "cell_type": "markdown",
   "metadata": {
    "id": "_w2FpDl5pg5u"
   },
   "source": [
    "*****"
   ]
  },
  {
   "cell_type": "markdown",
   "metadata": {
    "id": "EgCYUXsUpg5w"
   },
   "source": [
    "### Question 1 **[50 pts]**:"
   ]
  },
  {
   "cell_type": "markdown",
   "metadata": {
    "id": "U8EiOXpFAvO0"
   },
   "source": [
    "**a)** **[15 pts]** Define a function called `isSymmetrical` that takes a string value as a parameter and returns `TRUE` if the given string is Symmetrical. A string is said to be symmetrical if the reverse of the string is the same as string. For example, “madam” is symmetrical, but “water” is not symmetrical."
   ]
  },
  {
   "cell_type": "code",
   "execution_count": 23,
   "metadata": {
    "execution": {
     "iopub.execute_input": "2020-10-12T00:51:46.336Z",
     "iopub.status.busy": "2020-10-12T00:51:46.323Z",
     "iopub.status.idle": "2020-10-12T00:51:46.350Z",
     "shell.execute_reply": "2020-10-12T00:51:46.143Z"
    },
    "id": "uDtTitw9AvO1",
    "pycharm": {
     "name": "#%%\n"
    }
   },
   "outputs": [],
   "source": [
    "def isSymmetrical(s):\n",
    "     \n",
    "    mid = (len(s)-1)//2\n",
    "    start = 0\n",
    "    last = len(s)-1\n",
    "    flag = 0\n",
    "  \n",
    "    # finds the middle of the string \n",
    "    while(start<mid): \n",
    "   \n",
    "        # comparing letters from right \n",
    "        # from the letters from left \n",
    "        if (s[start]== s[last]): \n",
    "              \n",
    "            start += 1\n",
    "            last -= 1\n",
    "        else: \n",
    "            flag = 1\n",
    "            break\n",
    "    \n",
    "       \n",
    "    # flag variable checks the symmetry  \n",
    "    if flag == 0: \n",
    "        print(\"The entered string is symmetrical\") \n",
    "    else: \n",
    "        print(\"The entered string is not symmetrical\") \n",
    "          "
   ]
  },
  {
   "cell_type": "code",
   "execution_count": 24,
   "metadata": {},
   "outputs": [
    {
     "name": "stdout",
     "output_type": "stream",
     "text": [
      "The entered string is symmetrical\n"
     ]
    }
   ],
   "source": [
    "isSymmetrical('madam')"
   ]
  },
  {
   "cell_type": "code",
   "execution_count": 25,
   "metadata": {},
   "outputs": [
    {
     "name": "stdout",
     "output_type": "stream",
     "text": [
      "The entered string is not symmetrical\n"
     ]
    }
   ],
   "source": [
    "isSymmetrical('water')"
   ]
  },
  {
   "cell_type": "markdown",
   "metadata": {
    "id": "7P6eyfpepg58"
   },
   "source": [
    "**b)** **[5 pts]** Modify the `isSymmetrical` function you created in Q1.a to take any type of data as an input and return `TRUE` if the input is symmetrical. For example, \"12321\" is symmetrical, but \"12345\" is not symmetrical."
   ]
  },
  {
   "cell_type": "code",
   "execution_count": 26,
   "metadata": {
    "execution": {
     "iopub.execute_input": "2020-10-12T00:51:46.380Z",
     "iopub.status.busy": "2020-10-12T00:51:46.370Z",
     "iopub.status.idle": "2020-10-12T00:51:46.390Z",
     "shell.execute_reply": "2020-10-12T00:51:46.160Z"
    },
    "id": "s2xo2uaYpg59",
    "pycharm": {
     "name": "#%%\n"
    },
    "tags": [
     "parameters"
    ]
   },
   "outputs": [],
   "source": [
    "def isSymmetrical(s):\n",
    "    \n",
    "    if type(s) == int:\n",
    "        s=str(s)\n",
    "        n=len(s)\n",
    "    elif type(s) == str:\n",
    "        n = len(s)\n",
    "    \n",
    "     \n",
    "    mid = (len(s)-1)//2\n",
    "    start = 0\n",
    "    last = len(s)-1\n",
    "    flag = 0\n",
    "  \n",
    "     \n",
    "    while(start<mid): \n",
    "   \n",
    "         \n",
    "        if (s[start]== s[last]): \n",
    "              \n",
    "            start += 1\n",
    "            last -= 1\n",
    "        else: \n",
    "            flag = 1\n",
    "            break\n",
    "       \n",
    "     \n",
    "    if flag == 0: \n",
    "        return(\"The entered string is symmetrical\") \n",
    "    else: \n",
    "        return(\"The entered string is not symmetrical\") \n",
    "          "
   ]
  },
  {
   "cell_type": "code",
   "execution_count": 27,
   "metadata": {},
   "outputs": [
    {
     "data": {
      "text/plain": [
       "'The entered string is symmetrical'"
      ]
     },
     "execution_count": 27,
     "metadata": {},
     "output_type": "execute_result"
    }
   ],
   "source": [
    "isSymmetrical('12321')"
   ]
  },
  {
   "cell_type": "markdown",
   "metadata": {
    "id": "xC08P3Mvpg6C"
   },
   "source": [
    "**c)** **[10 pts]** Define a function called `isSymmetricalVec` that calls `isSymmetrical` function you updated in Q1.b to take a list of elements and return their results in a list.  For example, given \\[\"1441\", \"Apple\", \"radar\", \"232\", \"plane\"\\] the function returns \\[`TRUE`, `FALSE`, `TRUE`, `TRUE`, `FALSE`\\]"
   ]
  },
  {
   "cell_type": "code",
   "execution_count": 28,
   "metadata": {
    "execution": {
     "iopub.execute_input": "2020-10-12T00:51:46.418Z",
     "iopub.status.busy": "2020-10-12T00:51:46.403Z",
     "iopub.status.idle": "2020-10-12T00:51:46.429Z",
     "shell.execute_reply": "2020-10-12T00:51:46.172Z"
    },
    "id": "MVoBD9X1pg6D",
    "pycharm": {
     "name": "#%%\n"
    },
    "tags": []
   },
   "outputs": [],
   "source": [
    "def isSymmetricalVec(s):\n",
    "    vec=[]\n",
    "    for i in s:\n",
    "        mid = (len(i)-1)//2\n",
    "        start = 0\n",
    "        last = len(i)-1\n",
    "        flag = 0\n",
    "  \n",
    "    \n",
    "        while(start<mid): \n",
    "\n",
    "             \n",
    "            if (i[start]== i[last]): \n",
    "\n",
    "                start += 1\n",
    "                last -= 1\n",
    "            else: \n",
    "                flag = 1\n",
    "                break\n",
    "\n",
    "        \n",
    "        if flag == 0: \n",
    "            vec.append('TRUE') \n",
    "        else: \n",
    "            vec.append('FALSE') \n",
    "\n",
    "    return(vec)      \n"
   ]
  },
  {
   "cell_type": "code",
   "execution_count": 29,
   "metadata": {},
   "outputs": [
    {
     "data": {
      "text/plain": [
       "['TRUE', 'FALSE', 'TRUE', 'TRUE', 'FALSE']"
      ]
     },
     "execution_count": 29,
     "metadata": {},
     "output_type": "execute_result"
    }
   ],
   "source": [
    "isSymmetricalVec([\"1441\", \"Apple\", \"radar\", \"232\", \"plane\"])"
   ]
  },
  {
   "cell_type": "markdown",
   "metadata": {
    "id": "M4dHoJWYpg6G"
   },
   "source": [
    "**d)** **[10 pts]** Define a function called `isSymmetricalDict` by modifying the function you created in Q1.c to return the results in a dictionary with their corresponding input elements. \\\n",
    "For example, given \\[\"1441\", \"Apple\", \"radar\", \"232\", \"plane\"\\] the function returns {\"1441\": `TRUE`, \"Apple\": `FALSE`, \"radar\": `TRUE`, \"232\": `TRUE`, \"plane\": `FALSE`\\}"
   ]
  },
  {
   "cell_type": "code",
   "execution_count": 30,
   "metadata": {
    "execution": {
     "iopub.execute_input": "2020-10-12T00:51:46.457Z",
     "iopub.status.busy": "2020-10-12T00:51:46.445Z",
     "iopub.status.idle": "2020-10-12T00:51:46.467Z",
     "shell.execute_reply": "2020-10-12T00:51:46.185Z"
    },
    "id": "gtgmUSaQpg6H",
    "pycharm": {
     "name": "#%%\n"
    },
    "tags": []
   },
   "outputs": [],
   "source": [
    "def isSymmetricalDict(s):\n",
    "    thisdict={}\n",
    "    for u in s:\n",
    "        thisdict[u]=\"\"\n",
    "    \n",
    "    for i in thisdict.keys():\n",
    "        mid = (len(i)-1)//2\n",
    "        start = 0\n",
    "        last = len(i)-1\n",
    "        flag = 0\n",
    "  \n",
    "    \n",
    "        while(start<mid): \n",
    "\n",
    "            \n",
    "            if (i[start]== i[last]): \n",
    "\n",
    "                start += 1\n",
    "                last -= 1\n",
    "            else: \n",
    "                flag = 1\n",
    "                break\n",
    "\n",
    "        \n",
    "        if flag == 0: \n",
    "            thisdict[i]='TRUE'\n",
    "        else: \n",
    "            thisdict[i]='FALSE'\n",
    "\n",
    "    return(thisdict)      \n",
    "\n",
    "    \n"
   ]
  },
  {
   "cell_type": "code",
   "execution_count": 31,
   "metadata": {},
   "outputs": [
    {
     "data": {
      "text/plain": [
       "{'1441': 'TRUE',\n",
       " 'Apple': 'FALSE',\n",
       " 'radar': 'TRUE',\n",
       " '232': 'TRUE',\n",
       " 'plane': 'FALSE'}"
      ]
     },
     "execution_count": 31,
     "metadata": {},
     "output_type": "execute_result"
    }
   ],
   "source": [
    "isSymmetricalDict([\"1441\", \"Apple\", \"radar\", \"232\", \"plane\"])"
   ]
  },
  {
   "cell_type": "markdown",
   "metadata": {
    "id": "EXPv2CWzRDgl"
   },
   "source": [
    "**e)** **[10 pts]** Define a function called `isSymmetricalTuple` by modifying the function you created in Q1.d to traverse the values of the returned dictionary **in reverse order** and return the dictionary keys that has a **`TRUE`** value as a tuple.  For example, given \\[\"1441\", \"Apple\", \"radar\", \"232\", \"plane\"\\] the function returns (\"232\", \"radar\",\"1441\")."
   ]
  },
  {
   "cell_type": "code",
   "execution_count": 32,
   "metadata": {
    "id": "M25DHDYOUdpb"
   },
   "outputs": [],
   "source": [
    "def isSymmetricalTuple(s):\n",
    "    thisdict={}\n",
    "    for u in s:\n",
    "        thisdict[u]=\"\"\n",
    "    \n",
    "    for i in thisdict.keys():\n",
    "        mid = (len(i)-1)//2\n",
    "        start = 0\n",
    "        last = len(i)-1\n",
    "        flag = 0\n",
    "  \n",
    "   \n",
    "        while(start<mid): \n",
    "\n",
    "            \n",
    "            if (i[start]== i[last]): \n",
    "\n",
    "                start += 1\n",
    "                last -= 1\n",
    "            else: \n",
    "                flag = 1\n",
    "                break\n",
    "\n",
    "         \n",
    "        if flag == 0: \n",
    "            thisdict[i]='TRUE'\n",
    "        else: \n",
    "            thisdict[i]='FALSE'\n",
    "    \n",
    "    values=[]\n",
    "    for key,value in thisdict.items():\n",
    "        if value =='TRUE':\n",
    "            values.append(key)\n",
    "    \n",
    "    values.reverse()\n",
    "    values= tuple(values)\n",
    "    \n",
    "    return(values)      \n",
    "\n",
    "    \n"
   ]
  },
  {
   "cell_type": "code",
   "execution_count": 33,
   "metadata": {},
   "outputs": [
    {
     "data": {
      "text/plain": [
       "('232', 'radar', '1441')"
      ]
     },
     "execution_count": 33,
     "metadata": {},
     "output_type": "execute_result"
    }
   ],
   "source": [
    "isSymmetricalTuple([\"1441\", \"Apple\", \"radar\", \"232\", \"plane\"])"
   ]
  },
  {
   "cell_type": "markdown",
   "metadata": {
    "id": "ES2Lj2aup8BB"
   },
   "source": [
    "*****"
   ]
  },
  {
   "cell_type": "markdown",
   "metadata": {
    "id": "TEbtnn-0pg6K",
    "nteract": {
     "transient": {
      "deleting": false
     }
    }
   },
   "source": [
    "\n",
    "\n",
    "### Question 2 **[80 pts]** :\n",
    "\n"
   ]
  },
  {
   "cell_type": "markdown",
   "metadata": {
    "id": "FRw3RLJ0pg6M",
    "nteract": {
     "transient": {
      "deleting": false
     }
    }
   },
   "source": [
    "**a)** **[15 pts]** Define a function called `minSubStr` that takes two string arguments ( S and T ), and returns `TRUE` if the characters of *T* exist in *S*, else returns `FALSE`. For example: given `S = 'xBxxAxxCxxAxCxxBxxxAxCxBxxxAxxBxCx'` and `T = \"ABC\"`, returns `TRUE` (`T = \"ABCD\"`, returns `FALSE)`\n"
   ]
  },
  {
   "cell_type": "code",
   "execution_count": 39,
   "metadata": {},
   "outputs": [],
   "source": [
    "S = 'xBxxAxxCxxAxCxxBxxxAxCxBxxxAxxBxCx'\n",
    "T = 'ABC'"
   ]
  },
  {
   "cell_type": "code",
   "execution_count": 35,
   "metadata": {
    "execution": {
     "iopub.execute_input": "2020-10-12T00:51:46.534Z",
     "iopub.status.busy": "2020-10-12T00:51:46.523Z",
     "iopub.status.idle": "2020-10-12T00:51:46.546Z",
     "shell.execute_reply": "2020-10-12T00:51:46.214Z"
    },
    "id": "PWvj1Z6lpg6N",
    "nteract": {
     "transient": {
      "deleting": false
     }
    },
    "tags": []
   },
   "outputs": [],
   "source": [
    "def minSubStr(S,T):\n",
    "\n",
    "    v=[]\n",
    "    for i in S:\n",
    "        v.append(i)\n",
    "    total = 0 \n",
    "    for element in T:\n",
    "        if element in v:\n",
    "            total = total+1\n",
    "\n",
    "    if total == len(T):\n",
    "        print(True)\n",
    "    else:\n",
    "        print(False)\n",
    "        \n",
    "\n",
    "     "
   ]
  },
  {
   "cell_type": "code",
   "execution_count": 36,
   "metadata": {},
   "outputs": [
    {
     "name": "stdout",
     "output_type": "stream",
     "text": [
      "True\n"
     ]
    }
   ],
   "source": [
    "minSubStr(S,T)"
   ]
  },
  {
   "cell_type": "code",
   "execution_count": 37,
   "metadata": {},
   "outputs": [],
   "source": [
    "T = \"ABCD\""
   ]
  },
  {
   "cell_type": "code",
   "execution_count": 38,
   "metadata": {},
   "outputs": [
    {
     "name": "stdout",
     "output_type": "stream",
     "text": [
      "False\n"
     ]
    }
   ],
   "source": [
    "minSubStr(S,T)"
   ]
  },
  {
   "cell_type": "markdown",
   "metadata": {
    "id": "dGqJtsN4AvPB"
   },
   "source": [
    "**b)** **[15 pts]** Modify your `minSubStr` function defined in Q2.a to return the first possible substring (traversing from left) containing all the elements of `T`. For example: given `S = 'xBxxAxxCxxAxCxxBxxxAxCxBxxxAxxBxCx'` and `T = \"ABC\"`, returns **`\"BxxAxxC\"`**"
   ]
  },
  {
   "cell_type": "code",
   "execution_count": 40,
   "metadata": {},
   "outputs": [],
   "source": [
    "def minSubStr(S,T):\n",
    "    total = 0\n",
    "    v=[]\n",
    "    sub=[]\n",
    "    for i in S:\n",
    "        v.append(i)\n",
    "\n",
    "    while total < len(T): \n",
    "        for element in v:\n",
    "            if element in T:\n",
    "                total=total+1\n",
    "                sub.append(element)\n",
    "            elif total == len(T):\n",
    "                break\n",
    "            elif total>=1:\n",
    "                sub.append(element)\n",
    "    if total == len(T):\n",
    "        return(''.join(sub))\n",
    "    elif total<len(T):\n",
    "        return(\"The values in T are not all in the values in S\")\n",
    "    "
   ]
  },
  {
   "cell_type": "code",
   "execution_count": 41,
   "metadata": {},
   "outputs": [
    {
     "data": {
      "text/plain": [
       "'BxxAxxC'"
      ]
     },
     "execution_count": 41,
     "metadata": {},
     "output_type": "execute_result"
    }
   ],
   "source": [
    "minSubStr(S,T)  "
   ]
  },
  {
   "cell_type": "markdown",
   "metadata": {},
   "source": [
    "**c)** **[20 pts]** Modify your `minSubStr` function defined in Q2.b to return the shortest substring containing all the elements of T. For example: given `S = 'xBxxAxxCxxAxCxxBxxxAxCxBxxxAxxBxCx'` and `T = \"ABC\"`, returns **`\"AxCxB\"`**\n"
   ]
  },
  {
   "cell_type": "code",
   "execution_count": 62,
   "metadata": {},
   "outputs": [],
   "source": [
    "def minSubStr(S, T):\n",
    "    htable={}\n",
    "    for i in T:\n",
    "        if i not in htable:\n",
    "            htable[i]=1\n",
    "        else: htable[i]+=1\n",
    "    Total=len(T)\n",
    "    start=0; minSize=10000; minStart=0\n",
    "    for end in range(len(S)):\n",
    "        if S[end] in htable:\n",
    "            htable[S[end]]-=1\n",
    "            if htable[S[end]]>=0:\n",
    "                Total-=1\n",
    "        if Total==0:\n",
    "            while True:\n",
    "                if S[start] in htable:\n",
    "                    if htable[S[start]]<0:\n",
    "                        htable[S[start]]+=1\n",
    "                    else:\n",
    "                        break\n",
    "                start+=1\n",
    "            if minSize>end-start+1:\n",
    "                minSize=end-start+1; minStart=start\n",
    "    if minSize==10000: return ''\n",
    "    else: return S[minStart:minStart+minSize]"
   ]
  },
  {
   "cell_type": "code",
   "execution_count": 63,
   "metadata": {},
   "outputs": [
    {
     "data": {
      "text/plain": [
       "'AxCxB'"
      ]
     },
     "execution_count": 63,
     "metadata": {},
     "output_type": "execute_result"
    }
   ],
   "source": [
    "minSubStr(S,T)"
   ]
  },
  {
   "cell_type": "markdown",
   "metadata": {
    "id": "TK1dYXTIYsh2"
   },
   "source": [
    "**d)** **[30 pts]** modify your `minSubStr` function defined in Q2.c to return the shortest substring containing all the elements of T in order. For example: given `S = 'xBxxAxxCxxAxCxxBxxxAxCxBxxxAxxBxCx'` and `T = \"ABC\"`, returns **`\"AxxBxC\"`**"
   ]
  },
  {
   "cell_type": "code",
   "execution_count": 65,
   "metadata": {
    "id": "M_I4iPfUY43m"
   },
   "outputs": [],
   "source": [
    "#couldn't figure it out in time\n",
    "def minSubStr(S, T):\n",
    "    htable={}\n",
    "    for i in T:\n",
    "        if i not in htable:\n",
    "            htable[i]=1\n",
    "        else: htable[i]+=1\n",
    "    Total=len(T)\n",
    "    start=0; minSize=10000; minStart=0\n",
    "    for end in range(len(S)):\n",
    "        if S[end] in htable:\n",
    "            htable[S[end]]-=1\n",
    "            if htable[S[end]]>=0:\n",
    "                Total-=1\n",
    "        if Total==0:\n",
    "            while True:\n",
    "                if S[start] in htable:\n",
    "                    if htable[S[start]]<0:\n",
    "                        htable[S[start]]+=1\n",
    "                    else:\n",
    "                        break\n",
    "                start+=1\n",
    "            if minSize>end-start+1:\n",
    "                minSize=end-start+1; minStart=start\n",
    "    if minSize==10000: return ''\n",
    "    else: return S[minStart:minStart+minSize]"
   ]
  },
  {
   "cell_type": "code",
   "execution_count": 66,
   "metadata": {},
   "outputs": [
    {
     "data": {
      "text/plain": [
       "'AxCxB'"
      ]
     },
     "execution_count": 66,
     "metadata": {},
     "output_type": "execute_result"
    }
   ],
   "source": [
    "minSubStr(S,T)"
   ]
  },
  {
   "cell_type": "markdown",
   "metadata": {
    "id": "M9eJ34NNAvPT"
   },
   "source": [
    "*****"
   ]
  },
  {
   "cell_type": "markdown",
   "metadata": {
    "id": "NNVEX5FMq_I7"
   },
   "source": [
    "### Question 3 **[30 pts]**:\n"
   ]
  },
  {
   "cell_type": "markdown",
   "metadata": {
    "id": "oDRF95yUAvPW",
    "pycharm": {
     "name": "#%% md\n"
    }
   },
   "source": [
    "**a)** Complete the given code to define three classes, Shape, Oval and Circle. \n",
    "- Shape will be the parent class of Oval and Circle. \n",
    "- Randomly create ten objects from Oval and Circle classes using the ``for`` loop given below\n",
    "- Your code should produce correct number of Shapes, Circle and Oval objects. The count of objects should be calculated within the class definitions. \n",
    "  - Example output (note that since it is random every time it will be a different number of shapes) \\\\\n",
    "  There are  10 random shape objects ['Circle', 'Circle', 'Circle', 'Circle', 'Oval', 'Circle', 'Oval', 'Oval', 'Circle', 'Circle'] \\\\\n",
    "\t 3 of them are ovals \\\\\n",
    "\t 7 of them are cirlces \\\\\n"
   ]
  },
  {
   "cell_type": "code",
   "execution_count": 11,
   "metadata": {
    "id": "h6V2Y3iuBQ09"
   },
   "outputs": [],
   "source": [
    "#excecute this code block second. And then execute the rest normally\n",
    "class shape:\n",
    "    \"\"\"the shape class is used to define the counters for the other classes\"\"\"\n",
    "    count=0\n",
    "    ovalcounter=0\n",
    "    circlecounter=0\n",
    "\n",
    "    def countShape(self):\n",
    "        for i in self:\n",
    "            if i == \"Oval\":\n",
    "                shape.ovalcounter+=1\n",
    "                shape.count+=1\n",
    "            elif i == \"Circle\":\n",
    "                shape.circlecounter+=1\n",
    "                shape.count+=1\n",
    "        return shape.count\n",
    "            \n",
    "class oval(shape):\n",
    "    \"\"\"the oval class inherits the shape class and returns its oval counter\"\"\"\n",
    "    def countOval(self):\n",
    "        return shape.ovalcounter\n",
    "        \n",
    "class circle(shape):\n",
    "    \"\"\"the circle class inherits the shape class and returns the circle counter\"\"\"\n",
    "    def countCircle(self):\n",
    "        return shape.circlecounter"
   ]
  },
  {
   "cell_type": "code",
   "execution_count": 10,
   "metadata": {},
   "outputs": [],
   "source": [
    "\"\"\"execute this code block first\"\"\"\n",
    "objs=[]\n",
    "\n",
    "from random import choice\n",
    "list_of_shapes = [choice(['Circle', 'Oval']) for x in range(10)]\n",
    "for shape in list_of_shapes:\n",
    "  if shape == 'Oval':\n",
    "    objs.append(shape)\n",
    "  else:\n",
    "    objs.append(shape)"
   ]
  },
  {
   "cell_type": "code",
   "execution_count": 12,
   "metadata": {},
   "outputs": [],
   "source": [
    "a=shape.countShape(objs)    \n",
    "o=oval.countOval(objs)\n",
    "c=circle.countCircle(objs)"
   ]
  },
  {
   "cell_type": "code",
   "execution_count": 13,
   "metadata": {},
   "outputs": [
    {
     "name": "stdout",
     "output_type": "stream",
     "text": [
      "there are 10 random shape objects\n",
      "['Circle', 'Circle', 'Oval', 'Circle', 'Circle', 'Circle', 'Oval', 'Circle', 'Circle', 'Circle']\n",
      "2 of them are ovals\n",
      "8 of them are circles\n"
     ]
    }
   ],
   "source": [
    "print(\"there are \"+str(a)+\" random shape objects\")\n",
    "print(list_of_shapes)\n",
    "print(str(o)+\" of them are ovals\")\n",
    "print(str(c) + \" of them are circles\")"
   ]
  },
  {
   "cell_type": "markdown",
   "metadata": {
    "id": "l9l0sjUoAvPk"
   },
   "source": [
    "#### This is the end of assignment 2"
   ]
  }
 ],
 "metadata": {
  "colab": {
   "collapsed_sections": [],
   "name": "CIND830W21_Assignment_2.ipynb",
   "provenance": []
  },
  "kernelspec": {
   "display_name": "Python 3",
   "language": "python",
   "name": "python3"
  },
  "language_info": {
   "codemirror_mode": {
    "name": "ipython",
    "version": 3
   },
   "file_extension": ".py",
   "mimetype": "text/x-python",
   "name": "python",
   "nbconvert_exporter": "python",
   "pygments_lexer": "ipython3",
   "version": "3.7.3"
  },
  "nteract": {
   "version": "0.25.1"
  },
  "varInspector": {
   "cols": {
    "lenName": 16,
    "lenType": 16,
    "lenVar": 40
   },
   "kernels_config": {
    "python": {
     "delete_cmd_postfix": "",
     "delete_cmd_prefix": "del ",
     "library": "var_list.py",
     "varRefreshCmd": "print(var_dic_list())"
    },
    "r": {
     "delete_cmd_postfix": ") ",
     "delete_cmd_prefix": "rm(",
     "library": "var_list.r",
     "varRefreshCmd": "cat(var_dic_list()) "
    }
   },
   "types_to_exclude": [
    "module",
    "function",
    "builtin_function_or_method",
    "instance",
    "_Feature"
   ],
   "window_display": false
  }
 },
 "nbformat": 4,
 "nbformat_minor": 1
}
