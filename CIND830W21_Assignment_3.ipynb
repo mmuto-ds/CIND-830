{
 "cells": [
  {
   "cell_type": "markdown",
   "metadata": {
    "id": "zb9n5Pg2TJKM"
   },
   "source": [
    "## CIND830 - Python Programming for Data Science  \n",
    "### Assignment 3 (10% of the final grade) \n",
    "### Due on April 12th, 2021 11:59 PM"
   ]
  },
  {
   "cell_type": "markdown",
   "metadata": {
    "id": "Oua2yEQZTdq9"
   },
   "source": [
    "*****\n",
    "This is a Jupyter Notebook document that extends a simple formatting syntax for authoring HTML and PDF.\n",
    "Review [this](https://jupyter-notebook.readthedocs.io/en/stable/notebook.html) website for more details on using Jupyter Notebook.\n",
    "\n",
    "Use the JupyterHub server on the Google Cloud Platform, provided by your designated instructor, for this assignment. \n",
    "Ensure using **Python 3.7.6** release then complete the assignment by inserting your Python code wherever seeing the string \"###CODE HERE ###\"\n",
    "\n",
    "When you click the `File` button, from the top navigation bar, then select `Export Notebook As ...`,\n",
    "a document (PDF or HTML format) will be generated that includes\n",
    " both the assignment content and the output of any embedded Python code chunks.\n",
    "\n",
    "Using [these](https://www.ryerson.ca/courses/students/tutorials/assignments/) guidelines,\n",
    "submit **both** the IPYNB and the exported file (PDF or HTML).\n",
    "Failing to submit both files will be subject to mark deduction."
   ]
  },
  {
   "cell_type": "markdown",
   "metadata": {
    "id": "2XVANSUVTgmc"
   },
   "source": [
    "### Question 1 **[30 pts]**:"
   ]
  },
  {
   "cell_type": "markdown",
   "metadata": {
    "id": "T_ueqP8hMKKP"
   },
   "source": [
    "**a)** Complete the methods of the following `Stack` class according to their description"
   ]
  },
  {
   "cell_type": "code",
   "execution_count": 12,
   "metadata": {
    "id": "LGPsOUXiS6Uf"
   },
   "outputs": [],
   "source": [
    "class Stack:\n",
    "    \n",
    "    def __init__(self):\n",
    "        \"\"\" Initialize a new stack \"\"\"\n",
    "        self.elements = []\n",
    "    def push(self, new_item):\n",
    "        \"\"\" Append the new item to the stack \"\"\"\n",
    "        self.elements.append(new_item)\n",
    "    \n",
    "    def pop(self):\n",
    "        \"\"\" Remove and return the last item from the stack \"\"\"\n",
    "        return self.elements.pop()\n",
    "  \n",
    "    def size(self):\n",
    "        \"\"\" Return the total number of elements in the stack \"\"\"\n",
    "        return len(self.elements)\n",
    "    \n",
    "    def is_empty(self):\n",
    "        \"\"\" Return True if the stack is empty and False if it is not empty \"\"\"\n",
    "        return self.elements==[]\n",
    "    \n",
    "    def peek(self):\n",
    "        \"\"\" Return the element at the top of the stack or return None if the stack is empty \"\"\"\n",
    "        return self.elements[len(self.elements)-1]\n",
    "    \n",
    "    def retlist(self):\n",
    "        \"\"\"joins the list to appear as a string\"\"\"\n",
    "        return \" \".join(self.elements)\n",
    "    \n",
    "    def __getitem__(self,item):\n",
    "        \"\"\"allows the stack to be subscriptable\"\"\"\n",
    "        return self.elements[item]\n",
    "    \n",
    "    def pop1(self,ch):\n",
    "        \"\"\"pop that allows a positional argument\"\"\"\n",
    "        return self.elements.pop(ch)\n"
   ]
  },
  {
   "cell_type": "code",
   "execution_count": null,
   "metadata": {},
   "outputs": [],
   "source": []
  },
  {
   "cell_type": "markdown",
   "metadata": {
    "id": "ASIiP_EGRpgZ"
   },
   "source": [
    "Use the Stack class you defined in `Q1a` to solve the following problems."
   ]
  },
  {
   "cell_type": "markdown",
   "metadata": {
    "id": "OZtV4CYYMRV7"
   },
   "source": [
    "**b)** Write a function to detect whether the orders of brackets is correct using stacks. Some examples are given below:"
   ]
  },
  {
   "cell_type": "code",
   "execution_count": 13,
   "metadata": {
    "id": "V8TkHXcYMRpW"
   },
   "outputs": [],
   "source": [
    "exp1 = \"(2+3)+(1-5)\" # True\n",
    "exp2 = \"((3*2))*(7/3))\" # False\n",
    "exp3 = \"(3*5))]\" # False"
   ]
  },
  {
   "cell_type": "code",
   "execution_count": 23,
   "metadata": {},
   "outputs": [],
   "source": [
    "def is_valid(exp):\n",
    "    \"\"\" Check the orders of the brackets\n",
    "      Returns True or False\n",
    "    \"\"\"\n",
    "    stk = Stack()\n",
    "    \n",
    "    opening = ['(', '[', '{']\n",
    "    closing = [')', ']', '}']\n",
    "    for ch in exp:\n",
    "        if ch in opening:\n",
    "            stk.push(ch)\n",
    "        elif ch in closing:\n",
    "            if stk.is_empty():\n",
    "                return False\n",
    "            charfromstack = stk.pop()\n",
    "            \n",
    "            if ch==')' and charfromstack!='(' or \\\n",
    "                ch==']' and charfromstack!='[' or \\\n",
    "                ch=='}' and charfromstack!='{':\n",
    "                return False\n",
    "    return stk.is_empty()\n",
    "        "
   ]
  },
  {
   "cell_type": "code",
   "execution_count": 24,
   "metadata": {
    "id": "WCQE8vwMPxg9"
   },
   "outputs": [
    {
     "data": {
      "text/plain": [
       "True"
      ]
     },
     "execution_count": 24,
     "metadata": {},
     "output_type": "execute_result"
    }
   ],
   "source": [
    "is_valid(exp1)"
   ]
  },
  {
   "cell_type": "code",
   "execution_count": 25,
   "metadata": {
    "id": "YwKnc00BPwfF"
   },
   "outputs": [
    {
     "data": {
      "text/plain": [
       "False"
      ]
     },
     "execution_count": 25,
     "metadata": {},
     "output_type": "execute_result"
    }
   ],
   "source": [
    "is_valid(exp2)"
   ]
  },
  {
   "cell_type": "code",
   "execution_count": 26,
   "metadata": {
    "id": "_tzEaZ7mPwuE"
   },
   "outputs": [
    {
     "data": {
      "text/plain": [
       "False"
      ]
     },
     "execution_count": 26,
     "metadata": {},
     "output_type": "execute_result"
    }
   ],
   "source": [
    "is_valid(exp3)"
   ]
  },
  {
   "cell_type": "markdown",
   "metadata": {
    "id": "lJUBQ390ORLZ"
   },
   "source": [
    "**c)** Write a simple spell checking function using **stacks** that removes consecutive similar strings from a sequence of words. Some examples are given below \\\\"
   ]
  },
  {
   "cell_type": "markdown",
   "metadata": {
    "id": "vQlouBFKSh8K"
   },
   "source": [
    "**HINT**: You can use the `peek` function of the Stack "
   ]
  },
  {
   "cell_type": "markdown",
   "metadata": {
    "id": "OZBGIpW4Sm6e"
   },
   "source": [
    "Input: hello world world \\\\\n",
    "Output: hello world"
   ]
  },
  {
   "cell_type": "markdown",
   "metadata": {
    "id": "li04Ps64TBwO"
   },
   "source": [
    "Input: Such an an amazing time to be alive! \\\\\n",
    "Output: Such an amazing time to be alive!"
   ]
  },
  {
   "cell_type": "code",
   "execution_count": 19,
   "metadata": {
    "id": "Rhem08S2Qjfc"
   },
   "outputs": [],
   "source": [
    "text1 = \"hello world world\"\n",
    "text2 = \"Such an an amazing time to be alive!\""
   ]
  },
  {
   "cell_type": "code",
   "execution_count": 20,
   "metadata": {
    "colab": {
     "base_uri": "https://localhost:8080/",
     "height": 125
    },
    "id": "ehxjtggUQjhg",
    "outputId": "3b75b5bf-e681-4999-fb78-fcf22f97b1f9"
   },
   "outputs": [],
   "source": [
    "def remove_consecutive_repeats(text):\n",
    "    stk=Stack()\n",
    "    words = text.split()\n",
    "    for char in words:\n",
    "        stk.push(char)\n",
    "    i = 1\n",
    "    n = stk.size()\n",
    "    while i < n:\n",
    "        if stk[i] == stk[i-1]:\n",
    "            stk.pop1(i)\n",
    "           \n",
    "            n = n-1\n",
    "        else:\n",
    "            i=i+1\n",
    "\n",
    "    return stk.retlist()\n",
    "        "
   ]
  },
  {
   "cell_type": "code",
   "execution_count": 21,
   "metadata": {
    "id": "Oqeb_EbZQjjj"
   },
   "outputs": [
    {
     "data": {
      "text/plain": [
       "'hello world'"
      ]
     },
     "execution_count": 21,
     "metadata": {},
     "output_type": "execute_result"
    }
   ],
   "source": [
    "remove_consecutive_repeats(text1)"
   ]
  },
  {
   "cell_type": "code",
   "execution_count": 22,
   "metadata": {
    "id": "oDj-jSSGQjlz"
   },
   "outputs": [
    {
     "data": {
      "text/plain": [
       "'Such an amazing time to be alive!'"
      ]
     },
     "execution_count": 22,
     "metadata": {},
     "output_type": "execute_result"
    }
   ],
   "source": [
    "remove_consecutive_repeats(text2)"
   ]
  },
  {
   "cell_type": "markdown",
   "metadata": {
    "id": "KE-n_dv5TjDV"
   },
   "source": [
    "### Question 2 **[30 pts]**:\n",
    "\n",
    "\n"
   ]
  },
  {
   "cell_type": "markdown",
   "metadata": {
    "id": "g_VbWFF0Y9Va"
   },
   "source": [
    "Implement Round Robin Scheduling algorithm using queues in Python. It is the most commonly used algorithm for CPU scheduling. \n",
    "- Each process takes an equal share of CPU time. For this question we choose a time quantum of 2 units.\n",
    "- After being processed for a predefined time, if the process still requires more computation, it is passed to a waiting queue."
   ]
  },
  {
   "cell_type": "markdown",
   "metadata": {
    "id": "3JkZ4i7pleDS"
   },
   "source": [
    "Answer the following questions:\n",
    "- Report the time each process is completed\n",
    "- Report wait times of each process in the queue\n"
   ]
  },
  {
   "cell_type": "markdown",
   "metadata": {
    "id": "2vsMr5mlluHc"
   },
   "source": [
    "$$\\text{Wait time} = \\text{End time} - \\text{Arrival Time} - \\text{Required Time}$$"
   ]
  },
  {
   "cell_type": "markdown",
   "metadata": {
    "id": "vYRpThg9j5aK"
   },
   "source": [
    ">Process ID | Arrival Time | Required Time |\n",
    ">--- | --- | ---\n",
    ">P1 | 0 | 4\n",
    ">P2 | 1 | 3\n",
    ">P3 | 2 | 2\n",
    ">P4 | 3 | 1\n"
   ]
  },
  {
   "cell_type": "code",
   "execution_count": 36,
   "metadata": {
    "id": "G_CIQvVTjJDe"
   },
   "outputs": [],
   "source": [
    "from collections import deque\n",
    "time_quantum = 2"
   ]
  },
  {
   "cell_type": "code",
   "execution_count": 37,
   "metadata": {
    "id": "ohPozokutM_o"
   },
   "outputs": [],
   "source": [
    "class Process:\n",
    "    def __init__(self, name, arrival_time, required_time, remaining_rt, wait_time):\n",
    "        self.name = name\n",
    "        self.arrival_time = arrival_time\n",
    "        self.required_time = required_time\n",
    "        self.remaining_rt = remaining_rt\n",
    "        self.wait_time = wait_time\n",
    "        self.time_processed = 0\n",
    "  \n",
    "    def __repr__(self):\n",
    "        return self.name\n",
    "    \n",
    "    def __getitem__(self,i):\n",
    "        \"\"\"allows the stack to be subscriptable\"\"\"\n",
    "        return self.remaining_rt[i]"
   ]
  },
  {
   "cell_type": "code",
   "execution_count": 38,
   "metadata": {
    "id": "UIfALROytbh5"
   },
   "outputs": [],
   "source": [
    "p0 = Process('P1', 0, 4, 4, 0)\n",
    "p1 = Process('P2', 1, 3, 3, 0)\n",
    "p2 = Process('P3', 2, 2, 2, 0)\n",
    "p3 = Process('P4', 3, 1, 1, 0)\n",
    "processes = [p0, p1, p2, p3]"
   ]
  },
  {
   "cell_type": "code",
   "execution_count": 1,
   "metadata": {},
   "outputs": [],
   "source": [
    "#gannt = [p0,p0,p1,p1,p2,p2,p0,p0,p3,p1]"
   ]
  },
  {
   "cell_type": "code",
   "execution_count": 42,
   "metadata": {},
   "outputs": [],
   "source": [
    "    \n",
    "def findWaitingTime(processes,time_quantum):\n",
    "    queue = deque()\n",
    "    running_proc = None # Tracks running process in the CPU\n",
    "    running_proc_time = 0 # Tracks the time running process spent in the CPU\n",
    "\n",
    "  \n",
    "\n",
    "    \n",
    "    # not done. \n",
    "    while(1):\n",
    "        \n",
    "        done = True\n",
    "  \n",
    "        # Traverse all processes one by\n",
    "        # one repeatedly \n",
    "        for t in range(11):\n",
    "            for i in processes:\n",
    "                if (i.arrival_time<=t and running_proc == None):\n",
    "                    running_proc=i\n",
    "                elif i.arrival_time == t:\n",
    "                        queue.appendleft(i)\n",
    "                        continue\n",
    "\n",
    "                        if (i.remaining_rt > 0) :\n",
    "                            done = False # There is a pending process\n",
    "\n",
    "                        if (i.remaining_rt > time_quantum) :\n",
    "\n",
    "                            \n",
    "                            i.remaining_rt -= 1\n",
    "                            running_proc_time += 1\n",
    "\n",
    "                      \n",
    "                        elif(running_proc_time == 2):\n",
    "                            running_proc_time=0\n",
    "                            running_proc=None\n",
    "                            queue.appendleft(i)\n",
    "                        \n",
    "                        \n",
    "                        elif(i.remaining_rt <= time_quantum):\n",
    "                            i.remaining_rt -= 1\n",
    "                            running_proc_time +=1\n",
    "\n",
    "\n",
    "                        elif(i.remaining_rt==0):\n",
    "                            \n",
    "                           \n",
    "                            i.wait_time = t - i.arrival_time - i.required_time\n",
    "\n",
    "                              \n",
    "                else:\n",
    "                    queue.appendleft(i)   \n",
    "            # If all processes are done \n",
    "            if (done == True):\n",
    "                break\n",
    "    for num in processes:\n",
    "        print(\"the wait time for \",num.name, \"is\",num.wait_time)"
   ]
  },
  {
   "cell_type": "code",
   "execution_count": null,
   "metadata": {},
   "outputs": [],
   "source": [
    "findWaitingTime(processes,time_quantum)"
   ]
  },
  {
   "cell_type": "code",
   "execution_count": 6,
   "metadata": {
    "id": "N7fiTOYMmLMB"
   },
   "outputs": [
    {
     "ename": "NameError",
     "evalue": "name 'end_times' is not defined",
     "output_type": "error",
     "traceback": [
      "\u001b[1;31m---------------------------------------------------------------------------\u001b[0m",
      "\u001b[1;31mNameError\u001b[0m                                 Traceback (most recent call last)",
      "\u001b[1;32m<ipython-input-6-2e9b319504dd>\u001b[0m in \u001b[0;36m<module>\u001b[1;34m\u001b[0m\n\u001b[1;32m----> 1\u001b[1;33m \u001b[0mprint\u001b[0m\u001b[1;33m(\u001b[0m\u001b[0mend_times\u001b[0m\u001b[1;33m)\u001b[0m \u001b[1;31m# End times for each process\u001b[0m\u001b[1;33m\u001b[0m\u001b[1;33m\u001b[0m\u001b[0m\n\u001b[0m\u001b[0;32m      2\u001b[0m \u001b[0mprint\u001b[0m\u001b[1;33m(\u001b[0m\u001b[0mwait_times\u001b[0m\u001b[1;33m)\u001b[0m \u001b[1;31m# Wait times for each process in the queue\u001b[0m\u001b[1;33m\u001b[0m\u001b[1;33m\u001b[0m\u001b[0m\n",
      "\u001b[1;31mNameError\u001b[0m: name 'end_times' is not defined"
     ]
    }
   ],
   "source": [
    "print(end_times) # End times for each process\n",
    "print(wait_times) # Wait times for each process in the queue"
   ]
  },
  {
   "cell_type": "markdown",
   "metadata": {
    "id": "7sb2R8AP7xp_"
   },
   "source": [
    "### Question 3 **[60 pts]**:\n",
    "\n",
    "\n"
   ]
  },
  {
   "cell_type": "markdown",
   "metadata": {
    "id": "u5MYNFS67xqL"
   },
   "source": [
    "Write a funciton to find the maximum length possible by cutting N given sticks into at least K pieces. \\\n",
    "Given an array `stick[]` of size **N**, representing the length of *N* pieces of stick and an integer *K*, at least **K** pieces of the same length need to be cut from the given stick pieces. The task is to find the maximum possible length of these K stick pieces that can be obtained. \\\n",
    "\\\n",
    "Examples: \\\n",
    "\n",
    "Input: stick[] = {5, 9, 7}, K = 3 \\\n",
    "Output: 5 \\\n",
    "\n",
    "Explanation: \\\n",
    "Cut arr[0] = 5 = 5 \\\n",
    "Cut arr[1] = 9 = 5 + 4 \\\n",
    "Cut arr[2] = 5 = 5 + 2 \\\n",
    "Therefore, the maximum length that can be obtained by cutting the sticks into 3 pieces is 5.\\\n",
    "\n",
    "Input: stick[] = {5, 9, 7}, K = 4 \\\n",
    "Output: 4 \\\n",
    "\n",
    "Explanation: \\\n",
    "Cut arr[0] = 5 = 4 + 1 \\\n",
    "Cut arr[1] = 9 = 2 * 4 + 1 \\\n",
    "Cut arr[2] = 7 = 4 + 3 \\\n",
    "Therefore, the maximum length that can be obtained by cutting the sticks into 4 pieces is 4. \n"
   ]
  },
  {
   "cell_type": "code",
   "execution_count": 9,
   "metadata": {
    "id": "TGd92hc_7xqL"
   },
   "outputs": [],
   "source": [
    "# Function to check if it is possible to\n",
    "# cut sticks into K pieces of length len\n",
    "def validcut(stick, cur_len, K):\n",
    "    count = 0\n",
    "    for s in stick:\n",
    "        count += s // cur_len\n",
    "    return (count >= K)\n",
    "\n",
    " \n",
    "def findMaxLen(stick, K):\n",
    "    max_len = max(stick)\n",
    "    left, right = 1, max_len\n",
    "    while left + 1 < right:\n",
    "        mid = (left + right) // 2\n",
    "        if cutsticks(stick, mid, K):\n",
    "            left = mid\n",
    "        else:\n",
    "            right = mid - 1 \n",
    "       \n",
    "    if cutsticks(stick, right, K):\n",
    "        print(\"the maximum length that can be obtained by cutting the sticks into\",K,\"pieces is\", right)\n",
    "    elif cutsticks(stick, left, K):\n",
    "        print(\"the maximum length that can be obtained by cutting the sticks into\",K,\"pieces is\", left)\n",
    "    else:\n",
    "        return 0\n",
    "             \n"
   ]
  },
  {
   "cell_type": "code",
   "execution_count": 10,
   "metadata": {},
   "outputs": [
    {
     "data": {
      "text/plain": [
       "True"
      ]
     },
     "execution_count": 10,
     "metadata": {},
     "output_type": "execute_result"
    }
   ],
   "source": [
    "cutsticks([5,9,7],3,3)"
   ]
  },
  {
   "cell_type": "code",
   "execution_count": 11,
   "metadata": {},
   "outputs": [
    {
     "name": "stdout",
     "output_type": "stream",
     "text": [
      "the maximum length that can be obtained by cutting the sticks into 3 pieces is 5\n"
     ]
    }
   ],
   "source": [
    "findMaxLen([5,9,7],3)"
   ]
  },
  {
   "cell_type": "markdown",
   "metadata": {
    "id": "T4fxYksbEDfP"
   },
   "source": [
    "### Question 4 **[20 pts]**: \n",
    "Write a function to move all negative numbers to the beginning and positives to the end.  \\\n",
    "An array contains both positive and negative numbers in random order. \\\n",
    "Rearrange the array elements so that all negative numbers appear before all positive numbers.  \\\n",
    "\n",
    "Example : \n",
    "\n",
    "Input: -12, 11, -13, -5, 6, -7, 5, -3, -6 \\\n",
    "Output: -12 -13 -5 -7 -3 -6 11 6 5 \\\n",
    "Note: Order of elements is **not** important."
   ]
  },
  {
   "cell_type": "code",
   "execution_count": 1,
   "metadata": {},
   "outputs": [],
   "source": [
    "def selsort(lyst):\n",
    "    i=0\n",
    "    while i<len(lyst)-1:\n",
    "        minIndex=i\n",
    "        j=i+1\n",
    "        while j < len(lyst):\n",
    "            if lyst[j]<lyst[minIndex]:\n",
    "                minIndex=j\n",
    "            j+=1\n",
    "        if minIndex != i:\n",
    "            temp=lyst[minIndex]\n",
    "            lyst[minIndex]=lyst[i]\n",
    "            lyst[i]=temp\n",
    "        i+=1\n",
    "    return lyst"
   ]
  },
  {
   "cell_type": "code",
   "execution_count": 2,
   "metadata": {},
   "outputs": [
    {
     "data": {
      "text/plain": [
       "[-13, -12, -7, -6, -5, -3, 5, 6, 11]"
      ]
     },
     "execution_count": 2,
     "metadata": {},
     "output_type": "execute_result"
    }
   ],
   "source": [
    "selsort([-12, 11, -13, -5, 6, -7, 5, -3, -6])"
   ]
  }
 ],
 "metadata": {
  "colab": {
   "collapsed_sections": [],
   "name": "CIND830W21 Assignment 3.ipynb",
   "provenance": []
  },
  "kernelspec": {
   "display_name": "Python 3",
   "language": "python",
   "name": "python3"
  },
  "language_info": {
   "codemirror_mode": {
    "name": "ipython",
    "version": 3
   },
   "file_extension": ".py",
   "mimetype": "text/x-python",
   "name": "python",
   "nbconvert_exporter": "python",
   "pygments_lexer": "ipython3",
   "version": "3.7.3"
  }
 },
 "nbformat": 4,
 "nbformat_minor": 1
}
