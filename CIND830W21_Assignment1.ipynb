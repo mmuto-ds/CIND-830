{
 "cells": [
  {
   "cell_type": "markdown",
   "metadata": {
    "id": "kJ6ssXaGJfGN"
   },
   "source": [
    "## CIND830 - Python Programming for Data Science  \n",
    "### Assignment 1 (10% of the final grade) \n",
    "### Due on February 8, 2021 11:59 PM  "
   ]
  },
  {
   "cell_type": "markdown",
   "metadata": {
    "id": "UWjXw7DsJfGP"
   },
   "source": [
    "*****\n",
    "This is a Jupyter Notebook document that extends a simple formatting syntax for authoring HTML and PDF.\n",
    "Review [this](https://jupyter-notebook.readthedocs.io/en/stable/notebook.html) website for more details on using Jupyter Notebook.\n",
    "\n",
    "Use the JupyterHub server on the Google Cloud Platform, provided by your designated instructor, for this assignment. \n",
    "Ensure using **Python 3.7.6** release then complete the assignment by inserting your Python code wherever seeing the string \"#INSERT YOUR ANSWER HERE.\"\n",
    "\n",
    "When you click the `File` button, from the top navigation bar, then select `Export Notebook As ...`,\n",
    "a document (PDF or HTML format) will be generated that includes\n",
    " both the assignment content and the output of any embedded Python code chunks.\n",
    "\n",
    "Using [these](https://www.ryerson.ca/courses/students/tutorials/assignments/) guidelines,\n",
    "submit **both** the IPYNB and the exported file (PDF or HTML).\n",
    "Failing to submit both files will be subject to mark deduction."
   ]
  },
  {
   "cell_type": "markdown",
   "metadata": {
    "id": "RDm-t4u8JfGP"
   },
   "source": [
    "### Question 1 **[60 pts]**:\n",
    "\n",
    "\n",
    "\n",
    "A multi-valued function has been defined as follows\n",
    "\n",
    "$$\n",
    "f(x) = \\left\\{\n",
    "    \\begin{array}\\\\\n",
    "       ({\\frac{x^2}{|x|+2}})^2 & \\mbox{if} \\ x < 5 \\\\\n",
    "        {\\frac{x^2}{|x|+2}} & \\mbox{if} \\ x = 5 \\\\\n",
    "       \\sqrt{\\frac{x^2}{|x|+2} } & \\mbox{if} \\ x > 5 \n",
    "    \\end{array}\n",
    "\\right.\n",
    "$$"
   ]
  },
  {
   "cell_type": "markdown",
   "metadata": {
    "id": "vARdfJN_JfGQ"
   },
   "source": [
    "**a)** **[10 pts]** Write a program to ask the user to enter a floating-point real number, check whether the number is greater, equal or less than 5, then print the output according to the definition of the multi-valued function.\n",
    "\n",
    "For example, if the user enters `x = -57.8`, then the output should be:<br>\n",
    "`The value of f(x) is 3121.1093571660267`\n",
    "\n",
    "Hint: Use the `math` module as it provides access to some of the essential mathematical functions."
   ]
  },
  {
   "cell_type": "code",
   "execution_count": 1,
   "metadata": {
    "colab": {
     "base_uri": "https://localhost:8080/"
    },
    "id": "CldaDRWdJfGQ",
    "outputId": "402bc26e-0b7e-4067-8e31-765858adedc9"
   },
   "outputs": [],
   "source": [
    "import math "
   ]
  },
  {
   "cell_type": "code",
   "execution_count": 2,
   "metadata": {},
   "outputs": [],
   "source": [
    "def enterNum(x):\n",
    "    if x<5:\n",
    "        return (x**2/(abs(x)+2))**2\n",
    "    elif x==5:\n",
    "        return x**2/(abs(x)+2)\n",
    "    elif x>5:\n",
    "        return math.sqrt(x**2/(abs(x)+2))"
   ]
  },
  {
   "cell_type": "code",
   "execution_count": 3,
   "metadata": {},
   "outputs": [
    {
     "data": {
      "text/plain": [
       "3121.1093571660267"
      ]
     },
     "execution_count": 3,
     "metadata": {},
     "output_type": "execute_result"
    }
   ],
   "source": [
    "enterNum(-57.8)"
   ]
  },
  {
   "cell_type": "markdown",
   "metadata": {
    "id": "ZRoY5MRdJfGQ"
   },
   "source": [
    "**b)**  **[10 pts]** Round the output of Q1.a to the nearest ineteger, convert that integer to a list of digits, then print the result.  \n",
    "\n",
    "For example, if the user enters `x = -57.8`, then the output should be: <br>\n",
    "`The value of f(x) is  3121.1093571660267`<br>\n",
    "`The list of digits is  [3, 1, 2, 1] `"
   ]
  },
  {
   "cell_type": "code",
   "execution_count": 4,
   "metadata": {
    "colab": {
     "base_uri": "https://localhost:8080/"
    },
    "id": "b725VzBSJfGR",
    "outputId": "8934e90c-77f2-49cd-ec19-2a1865657f11"
   },
   "outputs": [
    {
     "name": "stdout",
     "output_type": "stream",
     "text": [
      "the rounded amount of the result is 3121\n"
     ]
    }
   ],
   "source": [
    "rndq1 = round(enterNum(-57.8))\n",
    "print(\"the rounded amount of the result is\", rndq1)"
   ]
  },
  {
   "cell_type": "code",
   "execution_count": 5,
   "metadata": {},
   "outputs": [
    {
     "name": "stdout",
     "output_type": "stream",
     "text": [
      "the list of numbers is [3, 1, 2, 1]\n"
     ]
    }
   ],
   "source": [
    "res = [int(x) for x in str(rndq1)]\n",
    "print(\"the list of numbers is\", res)"
   ]
  },
  {
   "cell_type": "markdown",
   "metadata": {
    "id": "__ArmJayJfGR"
   },
   "source": [
    "**c)**  **[10 pts]** Find and print the `Median`, `Average` and `Mode` of the generated list in Q1.b.  For example, having `list = [6, 7, 7, 4]`, the result should be `Median = 6.5; Average = 6; Mode = 7`.  Ensure notifying the user if there is no unique mode found, as the `Mode` in this exercise returns only the single most common data item in the list.\n",
    "\n",
    "For example, if the user enters `x = -57.8`, then the output should be: <br>\n",
    "`The value of f(x) is  3121.1093571660267`<br>\n",
    "`The list of digits is  [3, 1, 2, 1]` <br>\n",
    "`Median is 1.5 ; Average is 1.75 ; Mode =  1`\n",
    "\n",
    "However, if the user enters `x = -57.2`, then the output should be: <br>\n",
    "`The value of f(x) is  3054.5040248356463` <br>\n",
    "`The list of digits is  [3, 0, 5, 4]` <br>\n",
    "`Median is 3.5 ; Average is 3 ; No unique mode found`\n",
    "\n",
    "Hint: Use the `statistics` module as it provides functions to calculate mathematical statistics of numeric data."
   ]
  },
  {
   "cell_type": "code",
   "execution_count": 6,
   "metadata": {
    "colab": {
     "base_uri": "https://localhost:8080/"
    },
    "id": "UaxzqgFIJfGS",
    "outputId": "cb39d04d-3489-4016-c11c-0e5185b38545"
   },
   "outputs": [],
   "source": [
    "import statistics"
   ]
  },
  {
   "cell_type": "code",
   "execution_count": 7,
   "metadata": {},
   "outputs": [
    {
     "name": "stdout",
     "output_type": "stream",
     "text": [
      "the median is: 1.5\n",
      "the mean is: 1.75\n"
     ]
    }
   ],
   "source": [
    "mean = statistics.mean(res)\n",
    "median = statistics.median(res)\n",
    "\n",
    "print(\"the median is:\",median)\n",
    "print(\"the mean is:\",mean)"
   ]
  },
  {
   "cell_type": "code",
   "execution_count": 8,
   "metadata": {},
   "outputs": [],
   "source": [
    "def modej(x):\n",
    "    try:\n",
    "        statistics.mode(x)\n",
    "    except Exception:\n",
    "        print(\"No unique mode found\")\n",
    "    else:\n",
    "        \n",
    "        print(\"the mode is:\",statistics.mode(x))\n",
    "        "
   ]
  },
  {
   "cell_type": "code",
   "execution_count": 9,
   "metadata": {},
   "outputs": [
    {
     "name": "stdout",
     "output_type": "stream",
     "text": [
      "the mode is: 1\n"
     ]
    }
   ],
   "source": [
    "modej(x=res)"
   ]
  },
  {
   "cell_type": "code",
   "execution_count": 10,
   "metadata": {},
   "outputs": [],
   "source": [
    "test=[1,2,3,4]"
   ]
  },
  {
   "cell_type": "code",
   "execution_count": 11,
   "metadata": {},
   "outputs": [
    {
     "name": "stdout",
     "output_type": "stream",
     "text": [
      "No unique mode found\n"
     ]
    }
   ],
   "source": [
    "modej(x=test)"
   ]
  },
  {
   "cell_type": "markdown",
   "metadata": {
    "id": "LswUhIjdJfGS"
   },
   "source": [
    "**d)**  **[10 pts]** Find and print the sum of squares of all the numbers of the list generated in Q1.b.  \n",
    "\n",
    "For example, if the user enters `x = -57.8`, then the output should be: <br>\n",
    "`The value of f(x) is  3121.1093571660267`<br>\n",
    "`The list of digits is  [3, 1, 2, 1]` <br>\n",
    "`The sum of squares is 15`  "
   ]
  },
  {
   "cell_type": "code",
   "execution_count": 30,
   "metadata": {},
   "outputs": [
    {
     "name": "stdout",
     "output_type": "stream",
     "text": [
      "The sum of squares is 15\n"
     ]
    }
   ],
   "source": [
    "sumofsquares=[]\n",
    "for num in res:\n",
    "    sumofsquares.append(num**2)\n",
    "print(\"The sum of squares is\",sum(sumofsquares))   "
   ]
  },
  {
   "cell_type": "markdown",
   "metadata": {
    "id": "I-eeT2BtJfGT"
   },
   "source": [
    "**e)**  **[10 pts]** Find and print the least common multiple of the numbers in the list generated in Q1.b.  \n",
    "\n",
    "For example, if the user enters `x = -57.8`, then the output should be: <br>\n",
    "`The value of f(x) is  3121.1093571660267`<br>\n",
    "`The list of digits is  [3, 1, 2, 1]` <br>\n",
    "`The least common multiple is 6`"
   ]
  },
  {
   "cell_type": "code",
   "execution_count": 36,
   "metadata": {
    "colab": {
     "base_uri": "https://localhost:8080/"
    },
    "id": "gm0k-xWbJfGT",
    "outputId": "b96fe12c-be1e-4433-89ae-e35225efeda7"
   },
   "outputs": [
    {
     "name": "stdout",
     "output_type": "stream",
     "text": [
      "the least common multiple is 6\n"
     ]
    }
   ],
   "source": [
    "from math import gcd\n",
    "  \n",
    "lcm = res[0]\n",
    "for i in res[1:]:\n",
    "  lcm = lcm*i//gcd(lcm, i)\n",
    "print(\"the least common multiple is\",lcm)"
   ]
  },
  {
   "cell_type": "markdown",
   "metadata": {
    "id": "WQP1V7zOJfGT"
   },
   "source": [
    "**f)**  **[10 pts]** Find and print the binary rpresentation of the numbers in the list generated in Q1.b.  \n",
    "\n",
    "For example, if the user enters `x = -57.8`, then the output should be: <br>\n",
    "`The value of f(x) is  3121.1093571660267`<br>\n",
    "`The list of digits is  [3, 1, 2, 1]` <br>\n",
    "`The binary representation is ['11', '1', '10', '1']` "
   ]
  },
  {
   "cell_type": "code",
   "execution_count": 44,
   "metadata": {
    "colab": {
     "base_uri": "https://localhost:8080/"
    },
    "id": "2GqP_jsyJfGU",
    "outputId": "0848745a-a0e7-4d51-e09a-c94959608cad"
   },
   "outputs": [
    {
     "name": "stdout",
     "output_type": "stream",
     "text": [
      "The binary representation is  ['11', '1', '10', '1']\n"
     ]
    }
   ],
   "source": [
    "binaryrep=[]\n",
    "for num in res:\n",
    "    binaryrep.append(bin(num).split('0b')[1])\n",
    "\n",
    "print(\"The binary representation is \",binaryrep)"
   ]
  },
  {
   "cell_type": "markdown",
   "metadata": {
    "id": "pHcWCZ8mJfGU"
   },
   "source": [
    "*****"
   ]
  },
  {
   "cell_type": "markdown",
   "metadata": {
    "id": "O3jPbo4vAvPc"
   },
   "source": [
    "### Question 2  **[40 pts]**:\n",
    "\n",
    "Write a program that accepts the coefficients of the folllowing two lines as inputs\n",
    "\n",
    "Line1: $a_1x+b_1y + c_1 = 0$\n",
    "\n",
    "Line2: $a_2x+b_2y + c_2 = 0$\n",
    "\n",
    "Then checks whether the two lines are parallel, intersecting or overlapping according to the conditions listed below."
   ]
  },
  {
   "cell_type": "code",
   "execution_count": 14,
   "metadata": {},
   "outputs": [
    {
     "name": "stdout",
     "output_type": "stream",
     "text": [
      "enter a1: 5\n",
      "enter b1: -4\n",
      "enter c1: 8\n"
     ]
    }
   ],
   "source": [
    "a1 = int(input(\"enter a1: \"))\n",
    "b1 = int(input(\"enter b1: \"))\n",
    "c1 = int(input(\"enter c1: \"))"
   ]
  },
  {
   "cell_type": "code",
   "execution_count": 15,
   "metadata": {},
   "outputs": [
    {
     "name": "stdout",
     "output_type": "stream",
     "text": [
      "enter a2: 7\n",
      "enter b2: 6\n",
      "enter c2: -9\n"
     ]
    }
   ],
   "source": [
    "a2 = int(input(\"enter a2: \"))\n",
    "b2 = int(input(\"enter b2: \"))\n",
    "c2 = int(input(\"enter c2: \"))"
   ]
  },
  {
   "cell_type": "markdown",
   "metadata": {
    "id": "h_3gNcgeJfGU"
   },
   "source": [
    "**a)**  **[10 pts]** Intersecting lines: If $\\frac{a_1}{a_2} \\ne \\frac{b_1}{b_2}$"
   ]
  },
  {
   "cell_type": "code",
   "execution_count": 17,
   "metadata": {},
   "outputs": [
    {
     "name": "stdout",
     "output_type": "stream",
     "text": [
      "lines intersect at some point\n"
     ]
    }
   ],
   "source": [
    "if (a1/a2)!=(b1/b2):\n",
    "    print(\"lines intersect at some point\")\n",
    "else:\n",
    "    print(\"lines do not intersect or are parralel\")"
   ]
  },
  {
   "cell_type": "markdown",
   "metadata": {
    "id": "b5J7kRLZAvPe"
   },
   "source": [
    "**b)**   **[10 pts]** Parallel lines: If the lines are not intersecting and $\\frac{a_1}{a_2} = \\frac{b_1}{b_2} \\ne \\frac{c_1}{c_2}$"
   ]
  },
  {
   "cell_type": "code",
   "execution_count": 19,
   "metadata": {
    "id": "bHHNxP0IAvPe"
   },
   "outputs": [
    {
     "name": "stdout",
     "output_type": "stream",
     "text": [
      "lines intersect or are parralel\n"
     ]
    }
   ],
   "source": [
    "if (a1/a2) == (b1/b1) != (c1/c2):\n",
    "    print(\"lines are parralel\")\n",
    "else:\n",
    "    print(\"lines intersect or are parralel\")"
   ]
  },
  {
   "cell_type": "markdown",
   "metadata": {
    "id": "6q5tUb98JfGV"
   },
   "source": [
    "**c)**   **[10 pts]** Overlapping lines: If the lines are not intersecting and $\\frac{a_1}{a_2} = \\frac{b_1}{b_2} = \\frac{c_1}{c_2}$"
   ]
  },
  {
   "cell_type": "code",
   "execution_count": 20,
   "metadata": {
    "id": "PvQTbdc8AvPi"
   },
   "outputs": [
    {
     "name": "stdout",
     "output_type": "stream",
     "text": [
      "lines intersect or are parralel\n"
     ]
    }
   ],
   "source": [
    "if (a1/a2) == (b1/b1) == (c1/c2):\n",
    "    print(\"lines overlap\")\n",
    "else:\n",
    "    print(\"lines intersect or are parralel\")"
   ]
  },
  {
   "cell_type": "markdown",
   "metadata": {
    "id": "l9l0sjUoAvPk"
   },
   "source": [
    "**d)**   **[10 pts]** Plot the two lines graphically using the `matplotlib` and `numpy` libraries or any other suitable libraries. "
   ]
  },
  {
   "cell_type": "code",
   "execution_count": 26,
   "metadata": {
    "id": "cDqwtAjhAvPk"
   },
   "outputs": [
    {
     "data": {
      "image/png": "[encoded data removed]",
      "text/plain": [
       "<Figure size 432x288 with 1 Axes>"
      ]
     },
     "metadata": {
      "needs_background": "light"
     },
     "output_type": "display_data"
    }
   ],
   "source": [
    "import matplotlib.pyplot as plt\n",
    "import numpy as np\n",
    "fig = plt.figure()\n",
    "ax = fig.add_subplot(1, 1, 1)\n",
    "x = np.linspace(-5,5,100)\n",
    "y1 = ((-a1*x)/b1) - (c1/b1)\n",
    "y2 = ((-a2*x)/b2) - (c2/b2)\n",
    "ax.spines['left'].set_position('center')\n",
    "ax.spines['bottom'].set_position('center')\n",
    "ax.spines['right'].set_color('none')\n",
    "ax.spines['top'].set_color('none')\n",
    "ax.xaxis.set_ticks_position('bottom')\n",
    "ax.yaxis.set_ticks_position('left')\n",
    "plt.plot(x, y1, '-r', label='a1x+b1y+c1=0')\n",
    "plt.plot(x, y2,'-b', label='a2x+b2y+c2=0')\n",
    "\n",
    "plt.legend(loc='upper left')\n",
    "plt.show()"
   ]
  },
  {
   "cell_type": "markdown",
   "metadata": {
    "id": "1pXjKc23jXTj"
   },
   "source": [
    "*****"
   ]
  },
  {
   "cell_type": "markdown",
   "metadata": {
    "id": "liJoAmA1LGOz"
   },
   "source": [
    "### Question 3  **[30 pts]**:\n",
    "Write a code for a Number Guessing Game. \n",
    "The code assigns a random integer number from a given interval to a varible, then asks the user to make a guess to find that number. \n",
    "\n",
    "Do not forget to check the validity of the selected number:\n",
    "- Is it an integer?\n",
    "- Is it an integer that lies in the given range?"
   ]
  },
  {
   "cell_type": "markdown",
   "metadata": {
    "id": "13g6-UkaB2bW"
   },
   "source": [
    "**a)**  **[10 pts]** Follow these steps to implement a simple version of the game:\n",
    "- The code assigns a random integer number between 0 and 100 to a variable.\n",
    "- The code gives the user only one chance to guess that number. \n",
    "- The output of the code should be either 'correct' or 'wrong'.\n",
    "\n",
    "Hint:  Use the `random` module to generate a pseudo-random number."
   ]
  },
  {
   "cell_type": "code",
   "execution_count": 1,
   "metadata": {
    "id": "pgjCsUosSprl"
   },
   "outputs": [],
   "source": [
    "import random as rand"
   ]
  },
  {
   "cell_type": "code",
   "execution_count": 2,
   "metadata": {},
   "outputs": [
    {
     "data": {
      "text/plain": [
       "17"
      ]
     },
     "execution_count": 2,
     "metadata": {},
     "output_type": "execute_result"
    }
   ],
   "source": [
    "corr = rand.randrange(0,101)\n",
    "corr"
   ]
  },
  {
   "cell_type": "code",
   "execution_count": 3,
   "metadata": {},
   "outputs": [],
   "source": [
    "def NumberGuesser(x):\n",
    "    if x == corr:\n",
    "        print(\"That's the right answer\")\n",
    "        \n",
    "    else:\n",
    "        print(\"that's incorrect\")"
   ]
  },
  {
   "cell_type": "code",
   "execution_count": 4,
   "metadata": {},
   "outputs": [
    {
     "name": "stdout",
     "output_type": "stream",
     "text": [
      "that's incorrect\n"
     ]
    }
   ],
   "source": [
    "NumberGuesser(74)"
   ]
  },
  {
   "cell_type": "markdown",
   "metadata": {
    "id": "QLa2BEzGBzAc"
   },
   "source": [
    "**b)**  **[10 pts]** Since it is difficult to guess a number in one try, let us give chances and clues. \n",
    "\n",
    "With unlimited trials and a random integer number in the inclusive range from 0 to 100, the code will compare the first guess with the random number and tell the user if the random number is lower or higher than the user's guess, and so on untill the user correctly guesses the random integer number. "
   ]
  },
  {
   "cell_type": "code",
   "execution_count": 11,
   "metadata": {
    "id": "DhhjKEO9_TG7"
   },
   "outputs": [
    {
     "name": "stdout",
     "output_type": "stream",
     "text": [
      "please enter your guess :8\n",
      "Your guess is too low\n",
      "please enter your guess :10\n",
      "Your guess is too low\n",
      "please enter your guess :17\n",
      "that's the right number\n"
     ]
    }
   ],
   "source": [
    "guessed = False\n",
    "while guessed != True:\n",
    "    x = int(input(\"please enter your guess :\"))\n",
    "    if x < corr:\n",
    "        print(\"Your guess is too low\")\n",
    "    elif x > corr:\n",
    "        print(\"your guess is too high\")\n",
    "    elif x == corr:\n",
    "        print(\"that's the right number\")\n",
    "        guessed == True\n",
    "        break\n"
   ]
  },
  {
   "cell_type": "code",
   "execution_count": 84,
   "metadata": {},
   "outputs": [
    {
     "name": "stdout",
     "output_type": "stream",
     "text": [
      "that's the right number\n"
     ]
    }
   ],
   "source": [
    "NumberGuesser2(74)"
   ]
  },
  {
   "cell_type": "markdown",
   "metadata": {
    "id": "bvWLIEBTFNE1"
   },
   "source": [
    "**c)**  **[10 pts]** Let us develop a better version of the program by limiting the number of chances for guessing the random number based on the interval's boundaries.  \n",
    "\n",
    " \n",
    "Start with asking the user to enter two numbers, being the lower and upper bounds of the interval from which the random number will be selected. After the application chooses the random number based on the entered boundaries, find and print the number of attempts given to the user by computing the square root of the difference between the lower and upper bounds.\n",
    "\n",
    "Notably, the lower-bound value must be at least 1, and the upper-bound value must be higher than the lower-bound one.\n"
   ]
  },
  {
   "cell_type": "code",
   "execution_count": 4,
   "metadata": {
    "colab": {
     "base_uri": "https://localhost:8080/"
    },
    "id": "MexIqFs8EH63",
    "outputId": "e1a7b697-b124-4318-a986-8ec1138e0bf5"
   },
   "outputs": [
    {
     "name": "stdout",
     "output_type": "stream",
     "text": [
      "enter lower boundary the number must be at least 1 : 4\n",
      "enter the upper boundary the number must be higher than the lower bound by 1 : 10\n",
      "You've only  2  chances to guess the integer!\n",
      "Please enter your guess: 5\n",
      "Your guess is too low\n",
      "Please enter your guess: 6\n",
      "Your guess is too low\n",
      "\n",
      "The number is 9\n",
      "\tBetter Luck Next time!\n"
     ]
    }
   ],
   "source": [
    "import random\n",
    "import math\n",
    "\n",
    "lower = int(input(\"enter lower boundary the number must be at least 1 : \"))\n",
    "upper = int(input(\"enter the upper boundary the number must be higher than the lower bound by 1 : \"))\n",
    "\n",
    "CorrectGuess = random.randrange(lower, upper)\n",
    "print(\"You've only have \", round(math.sqrt(upper - lower)),\" chances to guess the integer!\")\n",
    "# print CorrectGuess\n",
    "\n",
    "count = 0\n",
    "\n",
    "while count < round(math.sqrt(upper - lower)):\n",
    "    count += 1 \n",
    "    \n",
    "    guess = int(input(\"Please enter your guess: \"))\n",
    " \n",
    "    if guess == CorrectGuess:\n",
    "        print(\"That's the correct number!\")\n",
    "    elif guess < CorrectGuess:\n",
    "        print(\"Your guess is too low\")\n",
    "\n",
    "    else:\n",
    "        print(\"Your guess is too high\")\n",
    "        \n",
    "if count >= round(math.sqrt(upper - lower)):\n",
    "   print(\"\\nThe number is\",CorrectGuess)\n",
    "   print(\"\\tBetter Luck Next time!\")"
   ]
  },
  {
   "cell_type": "markdown",
   "metadata": {
    "id": "E7H-NKYDjaiE"
   },
   "source": [
    "*****"
   ]
  },
  {
   "cell_type": "markdown",
   "metadata": {
    "id": "2XrFEyymLKnR"
   },
   "source": [
    "### Question 4  **[30 pts]**:\n",
    "\n",
    "Write a code for The Hangman Game. In this game, the user only enters the number of letters existing in that word, and the computer tries to guess them based on a fixed number of attempts.  The game ends if the computer correctly guessed all the letters in order or used all of the given attempts."
   ]
  },
  {
   "cell_type": "code",
   "execution_count": 1,
   "metadata": {
    "id": "Ocvn4QXHDgId",
    "scrolled": false
   },
   "outputs": [],
   "source": [
    "import random \n",
    "word_list = [\"a\",\"aa\",\"aaa\",\"aback\",\"abaft\",\"abandoned\",\"abashed\",\"aberrant\",\"abhorrent\",\"abiding\",\"abject\",\"ablaze\",\"able\",\"abnormal\",\"aboard\",\"aboriginal\",\"abortive\",\"abounding\",\"abrasive\",\"abrupt\",\"absent\",\"absorbed\",\"absorbing\",\"abstracted\",\"absurd\",\"abundant\",\"abusive\",\"accept\",\"acceptable\",\"accessible\",\"accidental\",\"account\",\"accurate\",\"achiever\",\"acid\",\"acidic\",\"acoustic\",\"acoustics\",\"acrid\",\"act\",\"action\",\"activity\",\"actor\",\"actually\",\"ad hoc\",\"adamant\",\"adaptable\",\"add\",\"addicted\",\"addition\",\"adhesive\",\"adjoining\",\"adjustment\",\"admire\",\"admit\",\"adorable\",\"adventurous\",\"advertisement\",\"advice\",\"advise\",\"afford\",\"afraid\",\"aftermath\",\"afternoon\",\"afterthought\",\"aggressive\",\"agonizing\",\"agree\",\"agreeable\",\"agreement\",\"ahead\",\"air\",\"airplane\",\"airport\",\"ajar\",\"alarm\",\"alcoholic\",\"alert\",\"alike\",\"alive\",\"alleged\",\"allow\",\"alluring\",\"aloof\",\"amazing\",\"ambiguous\",\"ambitious\",\"amount\",\"amuck\",\"amuse\",\"amused\",\"amusement\",\"amusing\",\"analyze\",\"ancient\",\"anger\",\"angle\",\"angry\",\"animal\",\"animated\",\"announce\",\"annoy\",\"annoyed\",\"annoying\",\"answer\",\"ants\",\"anxious\",\"apathetic\",\"apologise\",\"apparatus\",\"apparel\",\"appear\",\"applaud\",\"appliance\",\"appreciate\",\"approval\",\"approve\",\"aquatic\",\"arch\",\"argue\",\"argument\",\"arithmetic\",\"arm\",\"army\",\"aromatic\",\"arrange\",\"arrest\",\"arrive\",\"arrogant\",\"art\",\"ashamed\",\"ask\",\"aspiring\",\"assorted\",\"astonishing\",\"attach\",\"attack\",\"attempt\",\"attend\",\"attract\",\"attraction\",\"attractive\",\"aunt\",\"auspicious\",\"authority\",\"automatic\",\"available\",\"average\",\"avoid\",\"awake\",\"aware\",\"awesome\",\"awful\",\"axiomatic\",\"babies\",\"baby\",\"back\",\"bad\",\"badge\",\"bag\",\"bait\",\"bake\",\"balance\",\"ball\",\"ban\",\"bang\",\"barbarous\",\"bare\",\"base\",\"baseball\",\"bashful\",\"basin\",\"basket\",\"basketball\",\"bat\",\"bath\",\"bathe\",\"battle\",\"bawdy\",\"bead\",\"beam\",\"bear\",\"beautiful\",\"bed\",\"bedroom\",\"beds\",\"bee\",\"beef\",\"befitting\",\"beg\",\"beginner\",\"behave\",\"behavior\",\"belief\",\"believe\",\"bell\",\"belligerent\",\"bells\",\"belong\",\"beneficial\",\"bent\",\"berry\",\"berserk\",\"best\",\"better\",\"bewildered\",\"big\",\"bike\",\"bikes\",\"billowy\",\"bird\",\"birds\",\"birth\",\"birthday\",\"bit\",\"bite\",\"bite-sized\",\"bitter\",\"bizarre\",\"black\",\"black-and-white\",\"blade\",\"bleach\",\"bless\",\"blind\",\"blink\",\"blood\",\"bloody\",\"blot\",\"blow\",\"blue\",\"blue-eyed\",\"blush\",\"blushing\",\"board\",\"boast\",\"boat\",\"boil\",\"boiling\",\"bolt\",\"bomb\",\"bone\",\"book\",\"books\",\"boorish\",\"boot\",\"border\",\"bore\",\"bored\",\"boring\",\"borrow\",\"bottle\",\"bounce\",\"bouncy\",\"boundary\",\"boundless\",\"bow\",\"box\",\"boy\",\"brainy\",\"brake\",\"branch\",\"brash\",\"brass\",\"brave\",\"brawny\",\"breakable\",\"breath\",\"breathe\",\"breezy\",\"brick\",\"bridge\",\"brief\",\"bright\",\"broad\",\"broken\",\"brother\",\"brown\",\"bruise\",\"brush\",\"bubble\",\"bucket\",\"building\",\"bulb\",\"bump\",\"bumpy\",\"burly\",\"burn\",\"burst\",\"bury\",\"bushes\",\"business\",\"bustling\",\"busy\",\"butter\",\"button\",\"buzz\",\"cabbage\",\"cable\",\"cactus\",\"cagey\",\"cake\",\"cakes\",\"calculate\",\"calculating\",\"calculator\",\"calendar\",\"call\",\"callous\",\"calm\",\"camera\",\"camp\",\"can\",\"cannon\",\"canvas\",\"cap\",\"capable\",\"capricious\",\"caption\",\"car\",\"card\",\"care\",\"careful\",\"careless\",\"caring\",\"carpenter\",\"carriage\",\"carry\",\"cars\",\"cart\",\"carve\",\"cast\",\"cat\",\"cats\",\"cattle\",\"cause\",\"cautious\",\"cave\",\"ceaseless\",\"celery\",\"cellar\",\"cemetery\",\"cent\",\"certain\",\"chalk\",\"challenge\",\"chance\",\"change\",\"changeable\",\"channel\",\"charge\",\"charming\",\"chase\",\"cheap\",\"cheat\",\"check\",\"cheer\",\"cheerful\",\"cheese\",\"chemical\",\"cherries\",\"cherry\",\"chess\",\"chew\",\"chicken\",\"chickens\",\"chief\",\"childlike\",\"children\",\"chilly\",\"chin\",\"chivalrous\",\"choke\",\"chop\",\"chubby\",\"chunky\",\"church\",\"circle\",\"claim\",\"clam\",\"clammy\",\"clap\",\"class\",\"classy\",\"clean\",\"clear\",\"clever\",\"clip\",\"cloistered\",\"close\",\"closed\",\"cloth\",\"cloudy\",\"clover\",\"club\",\"clumsy\",\"cluttered\",\"coach\",\"coal\",\"coast\",\"coat\",\"cobweb\",\"coherent\",\"coil\",\"cold\",\"collar\",\"collect\",\"color\",\"colorful\",\"colossal\",\"colour\",\"comb\",\"combative\",\"comfortable\",\"command\",\"committee\",\"common\",\"communicate\",\"company\",\"compare\",\"comparison\",\"compete\",\"competition\",\"complain\",\"complete\",\"complex\",\"concentrate\",\"concern\",\"concerned\",\"condemned\",\"condition\",\"confess\",\"confuse\",\"confused\",\"connect\",\"connection\",\"conscious\",\"consider\",\"consist\",\"contain\",\"continue\",\"control\",\"cooing\",\"cook\",\"cool\",\"cooperative\",\"coordinated\",\"copper\",\"copy\",\"corn\",\"correct\",\"cough\",\"count\",\"country\",\"courageous\",\"cover\",\"cow\",\"cowardly\",\"cows\",\"crabby\",\"crack\",\"cracker\",\"crash\",\"crate\",\"craven\",\"crawl\",\"crayon\",\"crazy\",\"cream\",\"creator\",\"creature\",\"credit\",\"creepy\",\"crib\",\"crime\",\"crook\",\"crooked\",\"cross\",\"crow\",\"crowd\",\"crowded\",\"crown\",\"cruel\",\"crush\",\"cry\",\"cub\",\"cuddly\",\"cultured\",\"cumbersome\",\"cup\",\"cure\",\"curious\",\"curl\",\"curly\",\"current\",\"curtain\",\"curve\",\"curved\",\"curvy\",\"cushion\",\"cut\",\"cute\",\"cycle\",\"cynical\",\"dad\",\"daffy\",\"daily\",\"dam\",\"damage\",\"damaged\",\"damaging\",\"damp\",\"dance\",\"dangerous\",\"dapper\",\"dare\",\"dark\",\"dashing\",\"daughter\",\"day\",\"dazzling\",\"dead\",\"deadpan\",\"deafening\",\"dear\",\"death\",\"debonair\",\"debt\",\"decay\",\"deceive\",\"decide\",\"decision\",\"decisive\",\"decorate\",\"decorous\",\"deep\",\"deeply\",\"deer\",\"defeated\",\"defective\",\"defiant\",\"degree\",\"delay\",\"delicate\",\"delicious\",\"delight\",\"delightful\",\"delirious\",\"deliver\",\"demonic\",\"depend\",\"dependent\",\"depressed\",\"deranged\",\"describe\",\"descriptive\",\"desert\",\"deserted\",\"deserve\",\"design\",\"desire\",\"desk\",\"destroy\",\"destruction\",\"detail\",\"detailed\",\"detect\",\"determined\",\"develop\",\"development\",\"devilish\",\"didactic\",\"different\",\"difficult\",\"digestion\",\"diligent\",\"dime\",\"dinner\",\"dinosaurs\",\"direction\",\"direful\",\"dirt\",\"dirty\",\"disagree\",\"disagreeable\",\"disappear\",\"disapprove\",\"disarm\",\"disastrous\",\"discover\",\"discovery\",\"discreet\",\"discussion\",\"disgusted\",\"disgusting\",\"disillusioned\",\"dislike\",\"dispensable\",\"distance\",\"distinct\",\"distribution\",\"disturbed\",\"divergent\",\"divide\",\"division\",\"dizzy\",\"dock\",\"doctor\",\"dog\",\"dogs\",\"doll\",\"dolls\",\"domineering\",\"donkey\",\"door\",\"double\",\"doubt\",\"doubtful\",\"downtown\",\"drab\",\"draconian\",\"drag\",\"drain\",\"dramatic\",\"drawer\",\"dream\",\"dreary\",\"dress\",\"drink\",\"drip\",\"driving\",\"drop\",\"drown\",\"drum\",\"drunk\",\"dry\",\"duck\",\"ducks\",\"dull\",\"dust\",\"dusty\",\"dynamic\",\"dysfunctional\",\"eager\",\"ear\",\"early\",\"earn\",\"earsplitting\",\"earth\",\"earthquake\",\"earthy\",\"easy\",\"eatable\",\"economic\",\"edge\",\"educate\",\"educated\",\"education\",\"effect\",\"efficacious\",\"efficient\",\"egg\",\"eggnog\",\"eggs\",\"eight\",\"elastic\",\"elated\",\"elbow\",\"elderly\",\"electric\",\"elegant\",\"elfin\",\"elite\",\"embarrass\",\"embarrassed\",\"eminent\",\"employ\",\"empty\",\"enchanted\",\"enchanting\",\"encourage\",\"encouraging\",\"end\",\"endurable\",\"energetic\",\"engine\",\"enjoy\",\"enormous\",\"enter\",\"entertain\",\"entertaining\",\"enthusiastic\",\"envious\",\"equable\",\"equal\",\"erect\",\"erratic\",\"error\",\"escape\",\"ethereal\",\"evanescent\",\"evasive\",\"even\",\"event\",\"examine\",\"example\",\"excellent\",\"exchange\",\"excite\",\"excited\",\"exciting\",\"exclusive\",\"excuse\",\"exercise\",\"exist\",\"existence\",\"exotic\",\"expand\",\"expansion\",\"expect\",\"expensive\",\"experience\",\"expert\",\"explain\",\"explode\",\"extend\",\"extra-large\",\"extra-small\",\"exuberant\",\"exultant\",\"eye\",\"eyes\",\"fabulous\",\"face\",\"fact\",\"fade\",\"faded\",\"fail\",\"faint\",\"fair\",\"fairies\",\"faithful\",\"fall\",\"fallacious\",\"false\",\"familiar\",\"famous\",\"fanatical\",\"fancy\",\"fang\",\"fantastic\",\"far\",\"far-flung\",\"farm\",\"fascinated\",\"fast\",\"fasten\",\"fat\",\"faulty\",\"fax\",\"fear\",\"fearful\",\"fearless\",\"feeble\",\"feeling\",\"feigned\",\"female\",\"fence\",\"fertile\",\"festive\",\"fetch\",\"few\",\"field\",\"fierce\",\"file\",\"fill\",\"film\",\"filthy\",\"fine\",\"finger\",\"finicky\",\"fire\",\"fireman\",\"first\",\"fish\",\"fit\",\"five\",\"fix\",\"fixed\",\"flag\",\"flagrant\",\"flaky\",\"flame\",\"flap\",\"flash\",\"flashy\",\"flat\",\"flavor\",\"flawless\",\"flesh\",\"flight\",\"flimsy\",\"flippant\",\"float\",\"flock\",\"flood\",\"floor\",\"flow\",\"flower\",\"flowers\",\"flowery\",\"fluffy\",\"fluttering\",\"fly\",\"foamy\",\"fog\",\"fold\",\"follow\",\"food\",\"fool\",\"foolish\",\"foot\",\"force\",\"foregoing\",\"forgetful\",\"fork\",\"form\",\"fortunate\",\"found\",\"four\",\"fowl\",\"fragile\",\"frail\",\"frame\",\"frantic\",\"free\",\"freezing\",\"frequent\",\"fresh\",\"fretful\",\"friction\",\"friend\",\"friendly\",\"friends\",\"frighten\",\"frightened\",\"frightening\",\"frog\",\"frogs\",\"front\",\"fruit\",\"fry\",\"fuel\",\"full\",\"fumbling\",\"functional\",\"funny\",\"furniture\",\"furry\",\"furtive\",\"future\",\"futuristic\",\"fuzzy\",\"gabby\",\"gainful\",\"gamy\",\"gaping\",\"garrulous\",\"gate\",\"gather\",\"gaudy\",\"gaze\",\"geese\",\"general\",\"gentle\",\"ghost\",\"giant\",\"giants\",\"giddy\",\"gifted\",\"gigantic\",\"giraffe\",\"girl\",\"girls\",\"glamorous\",\"glass\",\"gleaming\",\"glib\",\"glistening\",\"glorious\",\"glossy\",\"glove\",\"glow\",\"glue\",\"godly\",\"gold\",\"good\",\"goofy\",\"gorgeous\",\"government\",\"governor\",\"grab\",\"graceful\",\"grade\",\"grain\",\"grandfather\",\"grandiose\",\"grandmother\",\"grape\",\"grass\",\"grate\",\"grateful\",\"gratis\",\"gray\",\"grease\",\"greasy\",\"great\",\"greedy\",\"green\",\"greet\",\"grey\",\"grieving\",\"grin\",\"grip\",\"groan\",\"groovy\",\"grotesque\",\"grouchy\",\"ground\",\"group\",\"growth\",\"grubby\",\"gruesome\",\"grumpy\",\"guarantee\",\"guard\",\"guarded\",\"guess\",\"guide\",\"guiltless\",\"guitar\",\"gullible\",\"gun\",\"gusty\",\"guttural\",\"habitual\",\"hair\",\"haircut\",\"half\",\"hall\",\"hallowed\",\"halting\",\"hammer\",\"hand\",\"handle\",\"hands\",\"handsome\",\"handsomely\",\"handy\",\"hang\",\"hanging\",\"hapless\",\"happen\",\"happy\",\"harass\",\"harbor\",\"hard\",\"hard-to-find\",\"harm\",\"harmonious\",\"harmony\",\"harsh\",\"hat\",\"hate\",\"hateful\",\"haunt\",\"head\",\"heady\",\"heal\",\"health\",\"healthy\",\"heap\",\"heartbreaking\",\"heat\",\"heavenly\",\"heavy\",\"hellish\",\"help\",\"helpful\",\"helpless\",\"hesitant\",\"hideous\",\"high\",\"high-pitched\",\"highfalutin\",\"hilarious\",\"hill\",\"hissing\",\"historical\",\"history\",\"hobbies\",\"hole\",\"holiday\",\"holistic\",\"hollow\",\"home\",\"homeless\",\"homely\",\"honey\",\"honorable\",\"hook\",\"hop\",\"hope\",\"horn\",\"horrible\",\"horse\",\"horses\",\"hose\",\"hospitable\",\"hospital\",\"hot\",\"hour\",\"house\",\"houses\",\"hover\",\"hug\",\"huge\",\"hulking\",\"hum\",\"humdrum\",\"humor\",\"humorous\",\"hungry\",\"hunt\",\"hurried\",\"hurry\",\"hurt\",\"hushed\",\"husky\",\"hydrant\",\"hypnotic\",\"hysterical\",\"ice\",\"icicle\",\"icky\",\"icy\",\"idea\",\"identify\",\"idiotic\",\"ignorant\",\"ignore\",\"ill\",\"ill-fated\",\"ill-informed\",\"illegal\",\"illustrious\",\"imaginary\",\"imagine\",\"immense\",\"imminent\",\"impartial\",\"imperfect\",\"impolite\",\"important\",\"imported\",\"impossible\",\"impress\",\"improve\",\"impulse\",\"incandescent\",\"include\",\"income\",\"incompetent\",\"inconclusive\",\"increase\",\"incredible\",\"industrious\",\"industry\",\"inexpensive\",\"infamous\",\"influence\",\"inform\",\"inject\",\"injure\",\"ink\",\"innate\",\"innocent\",\"inquisitive\",\"insect\",\"insidious\",\"instinctive\",\"instruct\",\"instrument\",\"insurance\",\"intelligent\",\"intend\",\"interest\",\"interesting\",\"interfere\",\"internal\",\"interrupt\",\"introduce\",\"invent\",\"invention\",\"invincible\",\"invite\",\"irate\",\"iron\",\"irritate\",\"irritating\",\"island\",\"itch\",\"itchy\",\"jaded\",\"jagged\",\"jail\",\"jam\",\"jar\",\"jazzy\",\"jealous\",\"jeans\",\"jelly\",\"jellyfish\",\"jewel\",\"jittery\",\"jobless\",\"jog\",\"join\",\"joke\",\"jolly\",\"joyous\",\"judge\",\"judicious\",\"juggle\",\"juice\",\"juicy\",\"jumbled\",\"jump\",\"jumpy\",\"juvenile\",\"kaput\",\"keen\",\"kettle\",\"key\",\"kick\",\"kill\",\"kind\",\"kindhearted\",\"kindly\",\"kiss\",\"kittens\",\"kitty\",\"knee\",\"kneel\",\"knife\",\"knit\",\"knock\",\"knot\",\"knotty\",\"knowing\",\"knowledge\",\"knowledgeable\",\"known\",\"label\",\"labored\",\"laborer\",\"lace\",\"lackadaisical\",\"lacking\",\"ladybug\",\"lake\",\"lame\",\"lamentable\",\"lamp\",\"land\",\"language\",\"languid\",\"large\",\"last\",\"late\",\"laugh\",\"laughable\",\"launch\",\"lavish\",\"lazy\",\"lean\",\"learn\",\"learned\",\"leather\",\"left\",\"leg\",\"legal\",\"legs\",\"lethal\",\"letter\",\"letters\",\"lettuce\",\"level\",\"lewd\",\"library\",\"license\",\"lick\",\"lie\",\"light\",\"lighten\",\"like\",\"likeable\",\"limit\",\"limping\",\"line\",\"linen\",\"lip\",\"liquid\",\"list\",\"listen\",\"literate\",\"little\",\"live\",\"lively\",\"living\",\"load\",\"loaf\",\"lock\",\"locket\",\"lonely\",\"long\",\"long-term\",\"longing\",\"look\",\"loose\",\"lopsided\",\"loss\",\"loud\",\"loutish\",\"love\",\"lovely\",\"loving\",\"low\",\"lowly\",\"lucky\",\"ludicrous\",\"lumber\",\"lumpy\",\"lunch\",\"lunchroom\",\"lush\",\"luxuriant\",\"lying\",\"lyrical\",\"macabre\",\"machine\",\"macho\",\"maddening\",\"madly\",\"magenta\",\"magic\",\"magical\",\"magnificent\",\"maid\",\"mailbox\",\"majestic\",\"makeshift\",\"male\",\"malicious\",\"mammoth\",\"man\",\"manage\",\"maniacal\",\"many\",\"marble\",\"march\",\"mark\",\"marked\",\"market\",\"married\",\"marry\",\"marvelous\",\"mask\",\"mass\",\"massive\",\"match\",\"mate\",\"material\",\"materialistic\",\"matter\",\"mature\",\"meal\",\"mean\",\"measly\",\"measure\",\"meat\",\"meaty\",\"meddle\",\"medical\",\"meek\",\"meeting\",\"mellow\",\"melodic\",\"melt\",\"melted\",\"memorize\",\"memory\",\"men\",\"mend\",\"merciful\",\"mere\",\"mess up\",\"messy\",\"metal\",\"mice\",\"middle\",\"mighty\",\"military\",\"milk\",\"milky\",\"mind\",\"mindless\",\"mine\",\"miniature\",\"minister\",\"minor\",\"mint\",\"minute\",\"miscreant\",\"miss\",\"mist\",\"misty\",\"mitten\",\"mix\",\"mixed\",\"moan\",\"moaning\",\"modern\",\"moldy\",\"mom\",\"momentous\",\"money\",\"monkey\",\"month\",\"moon\",\"moor\",\"morning\",\"mother\",\"motion\",\"motionless\",\"mountain\",\"mountainous\",\"mourn\",\"mouth\",\"move\",\"muddle\",\"muddled\",\"mug\",\"multiply\",\"mundane\",\"murder\",\"murky\",\"muscle\",\"mushy\",\"mute\",\"mysterious\",\"nail\",\"naive\",\"name\",\"nappy\",\"narrow\",\"nasty\",\"nation\",\"natural\",\"naughty\",\"nauseating\",\"near\",\"neat\",\"nebulous\",\"necessary\",\"neck\",\"need\",\"needle\",\"needless\",\"needy\",\"neighborly\",\"nerve\",\"nervous\",\"nest\",\"new\",\"next\",\"nice\",\"nifty\",\"night\",\"nimble\",\"nine\",\"nippy\",\"nod\",\"noise\",\"noiseless\",\"noisy\",\"nonchalant\",\"nondescript\",\"nonstop\",\"normal\",\"north\",\"nose\",\"nostalgic\",\"nosy\",\"note\",\"notebook\",\"notice\",\"noxious\",\"null\",\"number\",\"numberless\",\"numerous\",\"nut\",\"nutritious\",\"nutty\",\"oafish\",\"oatmeal\",\"obedient\",\"obeisant\",\"obese\",\"obey\",\"object\",\"obnoxious\",\"obscene\",\"obsequious\",\"observant\",\"observation\",\"observe\",\"obsolete\",\"obtain\",\"obtainable\",\"occur\",\"ocean\",\"oceanic\",\"odd\",\"offbeat\",\"offend\",\"offer\",\"office\",\"oil\",\"old\",\"old-fashioned\",\"omniscient\",\"one\",\"onerous\",\"open\",\"opposite\",\"optimal\",\"orange\",\"oranges\",\"order\",\"ordinary\",\"organic\",\"ossified\",\"outgoing\",\"outrageous\",\"outstanding\",\"oval\",\"oven\",\"overconfident\",\"overflow\",\"overjoyed\",\"overrated\",\"overt\",\"overwrought\",\"owe\",\"own\",\"pack\",\"paddle\",\"page\",\"pail\",\"painful\",\"painstaking\",\"paint\",\"pale\",\"paltry\",\"pan\",\"pancake\",\"panicky\",\"panoramic\",\"paper\",\"parallel\",\"parcel\",\"parched\",\"park\",\"parsimonious\",\"part\",\"partner\",\"party\",\"pass\",\"passenger\",\"past\",\"paste\",\"pastoral\",\"pat\",\"pathetic\",\"pause\",\"payment\",\"peace\",\"peaceful\",\"pear\",\"peck\",\"pedal\",\"peel\",\"peep\",\"pen\",\"pencil\",\"penitent\",\"perfect\",\"perform\",\"periodic\",\"permissible\",\"permit\",\"perpetual\",\"person\",\"pest\",\"pet\",\"petite\",\"pets\",\"phobic\",\"phone\",\"physical\",\"picayune\",\"pick\",\"pickle\",\"picture\",\"pie\",\"pies\",\"pig\",\"pigs\",\"pin\",\"pinch\",\"pine\",\"pink\",\"pipe\",\"piquant\",\"pizzas\",\"place\",\"placid\",\"plain\",\"plan\",\"plane\",\"planes\",\"plant\",\"plantation\",\"plants\",\"plastic\",\"plate\",\"plausible\",\"play\",\"playground\",\"pleasant\",\"please\",\"pleasure\",\"plot\",\"plough\",\"plucky\",\"plug\",\"pocket\",\"point\",\"pointless\",\"poised\",\"poison\",\"poke\",\"polish\",\"polite\",\"political\",\"pollution\",\"poor\",\"pop\",\"popcorn\",\"porter\",\"position\",\"possess\",\"possessive\",\"possible\",\"post\",\"pot\",\"potato\",\"pour\",\"powder\",\"power\",\"powerful\",\"practice\",\"pray\",\"preach\",\"precede\",\"precious\",\"prefer\",\"premium\",\"prepare\",\"present\",\"preserve\",\"press\",\"pretend\",\"pretty\",\"prevent\",\"previous\",\"price\",\"pricey\",\"prick\",\"prickly\",\"print\",\"private\",\"probable\",\"produce\",\"productive\",\"profit\",\"profuse\",\"program\",\"promise\",\"property\",\"prose\",\"protect\",\"protective\",\"protest\",\"proud\",\"provide\",\"psychedelic\",\"psychotic\",\"public\",\"puffy\",\"pull\",\"pump\",\"pumped\",\"punch\",\"puncture\",\"punish\",\"punishment\",\"puny\",\"purple\",\"purpose\",\"purring\",\"push\",\"pushy\",\"puzzled\",\"puzzling\",\"quack\",\"quaint\",\"quarrelsome\",\"quarter\",\"quartz\",\"queen\",\"question\",\"questionable\",\"queue\",\"quick\",\"quickest\",\"quicksand\",\"quiet\",\"quill\",\"quilt\",\"quince\",\"quirky\",\"quiver\",\"quixotic\",\"quizzical\",\"rabbit\",\"rabbits\",\"rabid\",\"race\",\"racial\",\"radiate\",\"ragged\",\"rail\",\"railway\",\"rain\",\"rainstorm\",\"rainy\",\"raise\",\"rake\",\"rambunctious\",\"rampant\",\"range\",\"rapid\",\"rare\",\"raspy\",\"rat\",\"rate\",\"ratty\",\"ray\",\"reach\",\"reaction\",\"reading\",\"ready\",\"real\",\"realize\",\"reason\",\"rebel\",\"receipt\",\"receive\",\"receptive\",\"recess\",\"recognise\",\"recondite\",\"record\",\"red\",\"reduce\",\"redundant\",\"reflect\",\"reflective\",\"refuse\",\"regret\",\"regular\",\"reign\",\"reject\",\"rejoice\",\"relation\",\"relax\",\"release\",\"relieved\",\"religion\",\"rely\",\"remain\",\"remarkable\",\"remember\",\"remind\",\"reminiscent\",\"remove\",\"repair\",\"repeat\",\"replace\",\"reply\",\"report\",\"representative\",\"reproduce\",\"repulsive\",\"request\",\"rescue\",\"resolute\",\"resonant\",\"respect\",\"responsible\",\"rest\",\"retire\",\"return\",\"reward\",\"rhetorical\",\"rhyme\",\"rhythm\",\"rice\",\"rich\",\"riddle\",\"rifle\",\"right\",\"righteous\",\"rightful\",\"rigid\",\"ring\",\"rings\",\"rinse\",\"ripe\",\"risk\",\"ritzy\",\"river\",\"road\",\"roasted\",\"rob\",\"robin\",\"robust\",\"rock\",\"rod\",\"roll\",\"romantic\",\"roof\",\"room\",\"roomy\",\"root\",\"rose\",\"rot\",\"rotten\",\"rough\",\"round\",\"route\",\"royal\",\"rub\",\"ruddy\",\"rude\",\"ruin\",\"rule\",\"run\",\"rural\",\"rush\",\"rustic\",\"ruthless\",\"sable\",\"sack\",\"sad\",\"safe\",\"sail\",\"salt\",\"salty\",\"same\",\"sand\",\"sassy\",\"satisfy\",\"satisfying\",\"save\",\"savory\",\"saw\",\"scale\",\"scandalous\",\"scarce\",\"scare\",\"scarecrow\",\"scared\",\"scarf\",\"scary\",\"scatter\",\"scattered\",\"scene\",\"scent\",\"school\",\"science\",\"scientific\",\"scintillating\",\"scissors\",\"scold\",\"scorch\",\"scrape\",\"scratch\",\"scrawny\",\"scream\",\"screeching\",\"screw\",\"scribble\",\"scrub\",\"sea\",\"seal\",\"search\",\"seashore\",\"seat\",\"second\",\"second-hand\",\"secret\",\"secretary\",\"secretive\",\"sedate\",\"seed\",\"seemly\",\"selection\",\"selective\",\"self\",\"selfish\",\"sense\",\"separate\",\"serious\",\"servant\",\"serve\",\"settle\",\"shade\",\"shaggy\",\"shake\",\"shaky\",\"shallow\",\"shame\",\"shape\",\"share\",\"sharp\",\"shave\",\"sheep\",\"sheet\",\"shelf\",\"shelter\",\"shiny\",\"ship\",\"shirt\",\"shiver\",\"shivering\",\"shock\",\"shocking\",\"shoe\",\"shoes\",\"shop\",\"short\",\"show\",\"shrill\",\"shrug\",\"shut\",\"shy\",\"sick\",\"side\",\"sidewalk\",\"sigh\",\"sign\",\"signal\",\"silent\",\"silk\",\"silky\",\"silly\",\"silver\",\"simple\",\"simplistic\",\"sin\",\"sincere\",\"sink\",\"sip\",\"sister\",\"sisters\",\"six\",\"size\",\"skate\",\"ski\",\"skillful\",\"skin\",\"skinny\",\"skip\",\"skirt\",\"sky\",\"slap\",\"slave\",\"sleep\",\"sleepy\",\"sleet\",\"slim\",\"slimy\",\"slip\",\"slippery\",\"slope\",\"sloppy\",\"slow\",\"small\",\"smart\",\"smash\",\"smell\",\"smelly\",\"smile\",\"smiling\",\"smoggy\",\"smoke\",\"smooth\",\"snail\",\"snails\",\"snake\",\"snakes\",\"snatch\",\"sneaky\",\"sneeze\",\"sniff\",\"snobbish\",\"snore\",\"snotty\",\"snow\",\"soak\",\"soap\",\"society\",\"sock\",\"soda\",\"sofa\",\"soft\",\"soggy\",\"solid\",\"somber\",\"son\",\"song\",\"songs\",\"soothe\",\"sophisticated\",\"sordid\",\"sore\",\"sort\",\"sound\",\"soup\",\"sour\",\"space\",\"spade\",\"spare\",\"spark\",\"sparkle\",\"sparkling\",\"special\",\"spectacular\",\"spell\",\"spicy\",\"spiders\",\"spiffy\",\"spiky\",\"spill\",\"spiritual\",\"spiteful\",\"splendid\",\"spoil\",\"sponge\",\"spooky\",\"spoon\",\"spot\",\"spotless\",\"spotted\",\"spotty\",\"spray\",\"spring\",\"sprout\",\"spurious\",\"spy\",\"squalid\",\"square\",\"squash\",\"squeak\",\"squeal\",\"squealing\",\"squeamish\",\"squeeze\",\"squirrel\",\"stage\",\"stain\",\"staking\",\"stale\",\"stamp\",\"standing\",\"star\",\"stare\",\"start\",\"statement\",\"station\",\"statuesque\",\"stay\",\"steadfast\",\"steady\",\"steam\",\"steel\",\"steep\",\"steer\",\"stem\",\"step\",\"stereotyped\",\"stew\",\"stick\",\"sticks\",\"sticky\",\"stiff\",\"stimulating\",\"stingy\",\"stir\",\"stitch\",\"stocking\",\"stomach\",\"stone\",\"stop\",\"store\",\"stormy\",\"story\",\"stove\",\"straight\",\"strange\",\"stranger\",\"strap\",\"straw\",\"stream\",\"street\",\"strengthen\",\"stretch\",\"string\",\"strip\",\"striped\",\"stroke\",\"strong\",\"structure\",\"stuff\",\"stupendous\",\"stupid\",\"sturdy\",\"subdued\",\"subsequent\",\"substance\",\"substantial\",\"subtract\",\"succeed\",\"successful\",\"succinct\",\"suck\",\"sudden\",\"suffer\",\"sugar\",\"suggest\",\"suggestion\",\"suit\",\"sulky\",\"summer\",\"sun\",\"super\",\"superb\",\"superficial\",\"supply\",\"support\",\"suppose\",\"supreme\",\"surprise\",\"surround\",\"suspect\",\"suspend\",\"swanky\",\"sweater\",\"sweet\",\"sweltering\",\"swift\",\"swim\",\"swing\",\"switch\",\"symptomatic\",\"synonymous\",\"system\",\"table\",\"taboo\",\"tacit\",\"tacky\",\"tail\",\"talented\",\"talk\",\"tall\",\"tame\",\"tan\",\"tangible\",\"tangy\",\"tank\",\"tap\",\"tart\",\"taste\",\"tasteful\",\"tasteless\",\"tasty\",\"tawdry\",\"tax\",\"teaching\",\"team\",\"tearful\",\"tease\",\"tedious\",\"teeny\",\"teeny-tiny\",\"teeth\",\"telephone\",\"telling\",\"temper\",\"temporary\",\"tempt\",\"ten\",\"tendency\",\"tender\",\"tense\",\"tent\",\"tenuous\",\"terrible\",\"terrific\",\"terrify\",\"territory\",\"test\",\"tested\",\"testy\",\"texture\",\"thank\",\"thankful\",\"thaw\",\"theory\",\"therapeutic\",\"thick\",\"thin\",\"thing\",\"things\",\"thinkable\",\"third\",\"thirsty\",\"thought\",\"thoughtful\",\"thoughtless\",\"thread\",\"threatening\",\"three\",\"thrill\",\"throat\",\"throne\",\"thumb\",\"thunder\",\"thundering\",\"tick\",\"ticket\",\"tickle\",\"tidy\",\"tie\",\"tiger\",\"tight\",\"tightfisted\",\"time\",\"tin\",\"tiny\",\"tip\",\"tire\",\"tired\",\"tiresome\",\"title\",\"toad\",\"toe\",\"toes\",\"tomatoes\",\"tongue\",\"tooth\",\"toothbrush\",\"toothpaste\",\"toothsome\",\"top\",\"torpid\",\"touch\",\"tough\",\"tour\",\"tow\",\"towering\",\"town\",\"toy\",\"toys\",\"trace\",\"trade\",\"trail\",\"train\",\"trains\",\"tramp\",\"tranquil\",\"transport\",\"trap\",\"trashy\",\"travel\",\"tray\",\"treat\",\"treatment\",\"tree\",\"trees\",\"tremble\",\"tremendous\",\"trick\",\"tricky\",\"trip\",\"trite\",\"trot\",\"trouble\",\"troubled\",\"trousers\",\"truck\",\"trucks\",\"truculent\",\"true\",\"trust\",\"truthful\",\"try\",\"tub\",\"tug\",\"tumble\",\"turkey\",\"turn\",\"twig\",\"twist\",\"two\",\"type\",\"typical\",\"ubiquitous\",\"ugliest\",\"ugly\",\"ultra\",\"umbrella\",\"unable\",\"unaccountable\",\"unadvised\",\"unarmed\",\"unbecoming\",\"unbiased\",\"uncle\",\"uncovered\",\"understood\",\"underwear\",\"undesirable\",\"undress\",\"unequal\",\"unequaled\",\"uneven\",\"unfasten\",\"unhealthy\",\"uninterested\",\"unique\",\"unit\",\"unite\",\"unkempt\",\"unknown\",\"unlock\",\"unnatural\",\"unpack\",\"unruly\",\"unsightly\",\"unsuitable\",\"untidy\",\"unused\",\"unusual\",\"unwieldy\",\"unwritten\",\"upbeat\",\"uppity\",\"upset\",\"uptight\",\"use\",\"used\",\"useful\",\"useless\",\"utopian\",\"utter\",\"uttermost\",\"vacation\",\"vacuous\",\"vagabond\",\"vague\",\"valuable\",\"value\",\"van\",\"vanish\",\"various\",\"vase\",\"vast\",\"vegetable\",\"veil\",\"vein\",\"vengeful\",\"venomous\",\"verdant\",\"verse\",\"versed\",\"vessel\",\"vest\",\"victorious\",\"view\",\"vigorous\",\"violent\",\"violet\",\"visit\",\"visitor\",\"vivacious\",\"voice\",\"voiceless\",\"volatile\",\"volcano\",\"volleyball\",\"voracious\",\"voyage\",\"vulgar\",\"wacky\",\"waggish\",\"wail\",\"wait\",\"waiting\",\"wakeful\",\"walk\",\"wall\",\"wander\",\"wandering\",\"want\",\"wanting\",\"war\",\"warlike\",\"warm\",\"warn\",\"wary\",\"wash\",\"waste\",\"wasteful\",\"watch\",\"water\",\"watery\",\"wave\",\"waves\",\"wax\",\"way\",\"weak\",\"wealth\",\"wealthy\",\"weary\",\"weather\",\"week\",\"weigh\",\"weight\",\"welcome\",\"well-groomed\",\"well-made\",\"well-off\",\"well-to-do\",\"wet\",\"wheel\",\"whimsical\",\"whine\",\"whip\",\"whirl\",\"whisper\",\"whispering\",\"whistle\",\"white\",\"whole\",\"wholesale\",\"wicked\",\"wide\",\"wide-eyed\",\"wiggly\",\"wild\",\"wilderness\",\"willing\",\"wind\",\"window\",\"windy\",\"wine\",\"wing\",\"wink\",\"winter\",\"wipe\",\"wire\",\"wiry\",\"wise\",\"wish\",\"wistful\",\"witty\",\"wobble\",\"woebegone\",\"woman\",\"womanly\",\"women\",\"wonder\",\"wonderful\",\"wood\",\"wooden\",\"wool\",\"woozy\",\"word\",\"work\",\"workable\",\"worm\",\"worried\",\"worry\",\"worthless\",\"wound\",\"wrap\",\"wrathful\",\"wreck\",\"wren\",\"wrench\",\"wrestle\",\"wretched\",\"wriggle\",\"wrist\",\"writer\",\"writing\",\"wrong\",\"wry\",\"x-ray\",\"yak\",\"yam\",\"yard\",\"yarn\",\"yawn\",\"year\",\"yell\",\"yellow\",\"yielding\",\"yoke\",\"young\",\"youthful\",\"yummy\",\"zany\",\"zealous\",\"zebra\",\"zephyr\",\"zesty\",\"zinc\",\"zip\",\"zipper\",\"zippy\",\"zonked\",\"zoo\",\"zoom\"]"
   ]
  },
  {
   "cell_type": "code",
   "execution_count": 2,
   "metadata": {},
   "outputs": [],
   "source": [
    "def split(word): \n",
    "    return list(word)"
   ]
  },
  {
   "cell_type": "code",
   "execution_count": 3,
   "metadata": {},
   "outputs": [
    {
     "name": "stdout",
     "output_type": "stream",
     "text": [
      "please enter the size of a word, be reasonable: 5\n",
      "_____\n",
      "\n",
      "\n",
      "Nice one, A is in the word!\n",
      "B isn't in the word :(\n",
      "C isn't in the word :(\n",
      "D isn't in the word :(\n",
      "E isn't in the word :(\n",
      "F isn't in the word :(\n",
      "Nice one, G is in the word!\n",
      "H isn't in the word :(\n",
      "I isn't in the word :(\n",
      "J isn't in the word :(\n",
      "K isn't in the word :(\n",
      "L isn't in the word :(\n",
      "M isn't in the word :(\n",
      "Nice one, N is in the word!\n",
      "O isn't in the word :(\n",
      "P isn't in the word :(\n",
      "Q isn't in the word :(\n",
      "R isn't in the word :(\n",
      "S isn't in the word :(\n",
      "Nice one, T is in the word!\n",
      "U isn't in the word :(\n",
      "V isn't in the word :(\n",
      "W isn't in the word :(\n",
      "X isn't in the word :(\n",
      "Nice one, Y is in the word!\n",
      "Z isn't in the word :(\n",
      "it took 21 for the computer to complete the puzzle\n",
      "\n",
      "\n",
      "Good Job, you guessed the word! TANGY\n"
     ]
    }
   ],
   "source": [
    "wrdlst=[]\n",
    "length = int(input(\"please enter the size of a word, be reasonable: \"))\n",
    "for n in word_list:\n",
    "    if len(n) == length:\n",
    "        wrdlst.append(n)\n",
    "\n",
    "word = split(random.choice(wrdlst).upper())\n",
    "word\n",
    "\n",
    "word_completion = \"_\" * len(word)\n",
    "guessed = False\n",
    "guessed_letters = []\n",
    "guessed_words = []\n",
    "tries = 0\n",
    "letters = [\"A\",\"B\",\"C\",\"D\",\"E\",\"F\",\"G\",\"H\",\"I\",\"J\",\"K\",\"L\",\"M\",\"N\",\"O\",\"P\",\"Q\",\"R\",\"S\",\"T\",\"U\",\"V\",\"W\",\"X\",\"Y\",\"Z\"]\n",
    "print(word_completion)\n",
    "print(\"\\n\")\n",
    "\n",
    "\n",
    "while guessed == False:\n",
    "    for i in letters:\n",
    "        if i in word:\n",
    "            print(\"good job,\", i, \"is in the word!\")\n",
    "            guessed_letters.append(i)\n",
    "            word_as_list = list(word_completion)\n",
    "            indices = [k for k, letter in enumerate(word) if letter == i]\n",
    "            for index in indices:\n",
    "                word_as_list[index] = i\n",
    "            word_completion = \"\".join(word_as_list)\n",
    "            if \"_\" not in word_completion:\n",
    "                guessed = True\n",
    "        else:\n",
    "            print(i, \"isn't in the word \")\n",
    "            tries +=1\n",
    "            guessed_letters.append(i)    \n",
    "  \n",
    "\n",
    "print(\"it took\",tries,\" tries for the computer to complete the puzzle\")\n",
    "print(\"\\n\")\n",
    "print(\"Good Job, you guessed the word!\",word_completion)"
   ]
  },
  {
   "cell_type": "markdown",
   "metadata": {
    "id": "7vRukEN2JfGX"
   },
   "source": [
    "#### This is the end of assignment 1"
   ]
  }
 ],
 "metadata": {
  "colab": {
   "collapsed_sections": [],
   "name": "CIND830F20 Assignment 1 QA_shared.ipynb",
   "provenance": []
  },
  "kernelspec": {
   "display_name": "Python 3",
   "language": "python",
   "name": "python3"
  },
  "language_info": {
   "codemirror_mode": {
    "name": "ipython",
    "version": 3
   },
   "file_extension": ".py",
   "mimetype": "text/x-python",
   "name": "python",
   "nbconvert_exporter": "python",
   "pygments_lexer": "ipython3",
   "version": "3.7.3"
  },
  "nteract": {
   "version": "0.27.0"
  },
  "varInspector": {
   "cols": {
    "lenName": 16,
    "lenType": 16,
    "lenVar": 40
   },
   "kernels_config": {
    "python": {
     "delete_cmd_postfix": "",
     "delete_cmd_prefix": "del ",
     "library": "var_list.py",
     "varRefreshCmd": "print(var_dic_list())"
    },
    "r": {
     "delete_cmd_postfix": ") ",
     "delete_cmd_prefix": "rm(",
     "library": "var_list.r",
     "varRefreshCmd": "cat(var_dic_list()) "
    }
   },
   "types_to_exclude": [
    "module",
    "function",
    "builtin_function_or_method",
    "instance",
    "_Feature"
   ],
   "window_display": false
  }
 },
 "nbformat": 4,
 "nbformat_minor": 1
}
